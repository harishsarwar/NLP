{
 "cells": [
  {
   "cell_type": "markdown",
   "id": "bcd9dd18-1947-465e-aca0-93c399104dd1",
   "metadata": {},
   "source": [
    "# Excersie: 1\n",
    "\n",
    " Extract all the Geographical (cities, Countries, states) names from a given text"
   ]
  },
  {
   "cell_type": "code",
   "execution_count": 145,
   "id": "b34b46ad-9567-4414-a4a6-60526376781d",
   "metadata": {},
   "outputs": [],
   "source": [
    "text = \"\"\"Kiran want to know the famous foods in each state of India. So, he opened Google and search for this question. Google showed that\n",
    "in Delhi it is Chaat, in Gujarat it is Dal Dhokli, in Tamilnadu it is Pongal, in Andhrapradesh it is Biryani, in Assam it is Papaya Khar,\n",
    "in Bihar it is Litti Chowkha and so on for all other states\"\"\""
   ]
  },
  {
   "cell_type": "code",
   "execution_count": 146,
   "id": "1c44c274-6edb-4407-8840-34944119964f",
   "metadata": {},
   "outputs": [],
   "source": [
    "import spacy "
   ]
  },
  {
   "cell_type": "code",
   "execution_count": 148,
   "id": "acebb729-9167-42b5-8a55-8a5a785f27f6",
   "metadata": {},
   "outputs": [],
   "source": [
    "nlp = spacy.load('en_core_web_sm')"
   ]
  },
  {
   "cell_type": "code",
   "execution_count": 153,
   "id": "cf869b25-8e27-42a4-8dbe-78a65abac0a9",
   "metadata": {},
   "outputs": [
    {
     "name": "stdout",
     "output_type": "stream",
     "text": [
      "Kiran  |  ORG  |  Companies, agencies, institutions, etc.\n",
      "India  |  GPE  |  Countries, cities, states\n",
      "Google  |  ORG  |  Companies, agencies, institutions, etc.\n",
      "Google  |  ORG  |  Companies, agencies, institutions, etc.\n",
      "Delhi  |  GPE  |  Countries, cities, states\n",
      "Chaat  |  ORG  |  Companies, agencies, institutions, etc.\n",
      "Gujarat  |  GPE  |  Countries, cities, states\n",
      "Dal Dhokli  |  PERSON  |  People, including fictional\n",
      "Tamilnadu  |  GPE  |  Countries, cities, states\n",
      "Pongal  |  GPE  |  Countries, cities, states\n",
      "Andhrapradesh  |  GPE  |  Countries, cities, states\n",
      "Biryani  |  PERSON  |  People, including fictional\n",
      "Assam  |  GPE  |  Countries, cities, states\n",
      "Papaya Khar  |  PERSON  |  People, including fictional\n",
      "Bihar  |  GPE  |  Countries, cities, states\n",
      "Litti Chowkha  |  PERSON  |  People, including fictional\n"
     ]
    }
   ],
   "source": [
    "doc = nlp(text)\n",
    "\n",
    "for ent in doc.ents:\n",
    "    print(ent, ' | ', ent.label_, ' | ', spacy.explain(ent.label_))"
   ]
  },
  {
   "cell_type": "markdown",
   "id": "b41c5460-29da-467b-a0f3-708462a605e0",
   "metadata": {},
   "source": [
    "# \n",
    "Excersie\n",
    "\n",
    " Extract all the birth dates of cricketers in the given Text2"
   ]
  },
  {
   "cell_type": "code",
   "execution_count": 154,
   "id": "6d719943-3900-442d-b1b0-35a85d6dc6c9",
   "metadata": {},
   "outputs": [],
   "source": [
    "text = \"\"\"Sachin Tendulkar was born on 24 April 1973, Virat Kholi was born on 5 November 1988, Dhoni was born on 7 July 1981\n",
    "and finally Ricky ponting was born on 19 December 1974.\"\"\""
   ]
  },
  {
   "cell_type": "code",
   "execution_count": 156,
   "id": "c71e77f0-abc0-4f6b-a268-bf143931e7bb",
   "metadata": {},
   "outputs": [],
   "source": [
    "doc = nlp(text)"
   ]
  },
  {
   "cell_type": "code",
   "execution_count": 158,
   "id": "354b4468-fcf0-430f-9245-67b8c73e4aef",
   "metadata": {},
   "outputs": [
    {
     "name": "stdout",
     "output_type": "stream",
     "text": [
      "24 April 1973\n",
      "5 November 1988\n",
      "7 July 1981\n",
      "19 December 1974\n"
     ]
    }
   ],
   "source": [
    "for ent in doc.ents:\n",
    "    if ent.label_=='DATE':\n",
    "        print(ent.text)"
   ]
  },
  {
   "cell_type": "code",
   "execution_count": null,
   "id": "b0089dc9-b2a5-434c-9e40-02ef84391ef6",
   "metadata": {},
   "outputs": [],
   "source": []
  }
 ],
 "metadata": {
  "kernelspec": {
   "display_name": "Python 3 (ipykernel)",
   "language": "python",
   "name": "python3"
  },
  "language_info": {
   "codemirror_mode": {
    "name": "ipython",
    "version": 3
   },
   "file_extension": ".py",
   "mimetype": "text/x-python",
   "name": "python",
   "nbconvert_exporter": "python",
   "pygments_lexer": "ipython3",
   "version": "3.12.4"
  }
 },
 "nbformat": 4,
 "nbformat_minor": 5
}

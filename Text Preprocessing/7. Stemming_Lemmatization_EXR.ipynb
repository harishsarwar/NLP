{
 "cells": [
  {
   "cell_type": "code",
   "execution_count": 3,
   "id": "cef6003a-1ef0-450a-a44a-2e9185ce6923",
   "metadata": {},
   "outputs": [],
   "source": [
    "import nltk\n",
    "from nltk.stem import PorterStemmer\n",
    "stemmer = PorterStemmer()"
   ]
  },
  {
   "cell_type": "code",
   "execution_count": 4,
   "id": "157032cf-5c2b-41d4-8585-2bff6d25c708",
   "metadata": {},
   "outputs": [],
   "source": [
    "import spacy\n",
    "nlp = spacy.load('en_core_web_sm')"
   ]
  },
  {
   "cell_type": "markdown",
   "id": "3e068e2d-4e43-4808-8be2-e02514bb0c57",
   "metadata": {},
   "source": [
    "# Exercise1:\n",
    "\n",
    "Convert these list of words into base form using Stemming and Lemmatization and observe the transformations.\n",
    "\r\n",
    "Write a short note on the words that have different base words using stemming and Lemmatization"
   ]
  },
  {
   "cell_type": "code",
   "execution_count": 5,
   "id": "2a0d9377-edce-4def-882e-291c79a2920b",
   "metadata": {},
   "outputs": [],
   "source": [
    "#using stemming in nltk\n",
    "lst_words = ['running', 'painting', 'walking', 'dressing', 'likely', 'children', 'whom', 'good', 'ate', 'fishing']"
   ]
  },
  {
   "cell_type": "code",
   "execution_count": 6,
   "id": "175bfe81-72cd-4be3-9062-7d868a13499a",
   "metadata": {},
   "outputs": [],
   "source": [
    "#using lemmatization in spacy\n",
    "\n",
    "doc = nlp(\"running painting walking dressing likely children who good ate fishing\")"
   ]
  },
  {
   "cell_type": "code",
   "execution_count": 8,
   "id": "3a640e6c-8328-45f4-896e-6205a1cb91f0",
   "metadata": {},
   "outputs": [
    {
     "name": "stdout",
     "output_type": "stream",
     "text": [
      "running  |  run\n",
      "painting  |  paint\n",
      "walking  |  walk\n",
      "dressing  |  dress\n",
      "likely  |  like\n",
      "children  |  children\n",
      "whom  |  whom\n",
      "good  |  good\n",
      "ate  |  ate\n",
      "fishing  |  fish\n"
     ]
    }
   ],
   "source": [
    "# tokenization using Stemming\n",
    "for word in lst_words:\n",
    "    print(word, ' | ', stemmer.stem(word))"
   ]
  },
  {
   "cell_type": "code",
   "execution_count": 9,
   "id": "8a9ec830-4a9f-4087-b12d-ff8989417d34",
   "metadata": {},
   "outputs": [
    {
     "name": "stdout",
     "output_type": "stream",
     "text": [
      "running  |  run\n",
      "painting  |  paint\n",
      "walking  |  walk\n",
      "dressing  |  dress\n",
      "likely  |  likely\n",
      "children  |  child\n",
      "who  |  who\n",
      "good  |  good\n",
      "ate  |  eat\n",
      "fishing  |  fishing\n"
     ]
    }
   ],
   "source": [
    "#tokenization using Lemmatization.\n",
    "for token in doc:\n",
    "    print(token, ' | ', token.lemma_)"
   ]
  },
  {
   "cell_type": "markdown",
   "id": "1f19d35e-0896-4ffc-b992-8050f1ad5d07",
   "metadata": {},
   "source": [
    "# Exercise2\n",
    "\n",
    "convert the given text into it's base form using both stemming and lemmatization\n",
    "    "
   ]
  },
  {
   "cell_type": "code",
   "execution_count": 10,
   "id": "01746104-e43a-4326-b809-e22d78755855",
   "metadata": {},
   "outputs": [],
   "source": [
    "\n",
    "text = \"\"\"Latha is very multi talented girl.She is good at many skills like dancing, running, singing, playing.She also likes eating Pav Bhagi. she has a \n",
    "habit of fishing and swimming too.Besides all this, she is a wonderful at cooking too.\n",
    "\"\"\""
   ]
  },
  {
   "cell_type": "code",
   "execution_count": 12,
   "id": "8952e7f3-2ce7-4bfb-80ff-8c4ffb5dfbc0",
   "metadata": {},
   "outputs": [
    {
     "data": {
      "text/plain": [
       "['Latha is very multi talented girl.She is good at many skills like dancing, running, singing, playing.She also likes eating Pav Bhagi.',\n",
       " 'she has a \\nhabit of fishing and swimming too.Besides all this, she is a wonderful at cooking too.']"
      ]
     },
     "execution_count": 12,
     "metadata": {},
     "output_type": "execute_result"
    }
   ],
   "source": [
    "# nltk sentence tokenization.\n",
    "from nltk.tokenize import sent_tokenize\n",
    "\n",
    "sentence_token_nltk = sent_tokenize(text=text)\n",
    "sentence_token_nltk"
   ]
  },
  {
   "cell_type": "code",
   "execution_count": 25,
   "id": "6ed9965b-2748-4728-b8a0-1657288b5eab",
   "metadata": {},
   "outputs": [
    {
     "data": {
      "text/plain": [
       "['Latha',\n",
       " 'is',\n",
       " 'very',\n",
       " 'multi',\n",
       " 'talented',\n",
       " 'girl.She',\n",
       " 'is',\n",
       " 'good',\n",
       " 'at',\n",
       " 'many',\n",
       " 'skills',\n",
       " 'like',\n",
       " 'dancing',\n",
       " ',',\n",
       " 'running',\n",
       " ',',\n",
       " 'singing',\n",
       " ',',\n",
       " 'playing.She',\n",
       " 'also',\n",
       " 'likes',\n",
       " 'eating',\n",
       " 'Pav',\n",
       " 'Bhagi',\n",
       " '.',\n",
       " 'she',\n",
       " 'has',\n",
       " 'a',\n",
       " 'habit',\n",
       " 'of',\n",
       " 'fishing',\n",
       " 'and',\n",
       " 'swimming',\n",
       " 'too.Besides',\n",
       " 'all',\n",
       " 'this',\n",
       " ',',\n",
       " 'she',\n",
       " 'is',\n",
       " 'a',\n",
       " 'wonderful',\n",
       " 'at',\n",
       " 'cooking',\n",
       " 'too',\n",
       " '.']"
      ]
     },
     "execution_count": 25,
     "metadata": {},
     "output_type": "execute_result"
    }
   ],
   "source": [
    "# word tokenization in nltk\n",
    "\n",
    "from nltk.tokenize import word_tokenize\n",
    "\n",
    "sent_to_word = word_tokenize(text)\n",
    "sent_to_word\n"
   ]
  },
  {
   "cell_type": "code",
   "execution_count": 27,
   "id": "f5c9714f-b22a-490c-b932-598873034429",
   "metadata": {},
   "outputs": [
    {
     "data": {
      "text/plain": [
       "'latha is veri multi talent girl.sh is good at mani skill like danc , run , sing , playing.sh also like eat pav bhagi . she ha a habit of fish and swim too.besid all thi , she is a wonder at cook too .'"
      ]
     },
     "execution_count": 27,
     "metadata": {},
     "output_type": "execute_result"
    }
   ],
   "source": [
    "# stemming of word in nltk and join all words together.\n",
    "stemming_nltk = []\n",
    "for word in sent_to_word:\n",
    "    base_form = stemmer.stem(word)\n",
    "    stemming_nltk.append(base_form)\n",
    "    \n",
    "joining = ' '.join(stemming_nltk)\n",
    "joining"
   ]
  },
  {
   "cell_type": "code",
   "execution_count": 21,
   "id": "8c573f99-b2d2-49e9-a74c-7575c47aef3e",
   "metadata": {},
   "outputs": [
    {
     "name": "stdout",
     "output_type": "stream",
     "text": [
      "Latha is very multi talented girl.\n",
      "She is good at many skills like dancing, running, singing, playing.\n",
      "She also likes eating Pav Bhagi.\n",
      "she has a \n",
      "habit of fishing and swimming too.\n",
      "Besides all this, she is a wonderful at cooking too.\n",
      "\n"
     ]
    }
   ],
   "source": [
    "# sentence tokenization using spacy\n",
    "doc = nlp(text)\n",
    "for token in doc.sents:\n",
    "    print(token)"
   ]
  },
  {
   "cell_type": "code",
   "execution_count": 33,
   "id": "6af4f84e-52a9-453b-b2c1-01d01c86d546",
   "metadata": {},
   "outputs": [
    {
     "name": "stdout",
     "output_type": "stream",
     "text": [
      "Latha  |  Latha\n",
      "is  |  be\n",
      "very  |  very\n",
      "multi  |  multi\n",
      "talented  |  talented\n",
      "girl  |  girl\n",
      ".  |  .\n",
      "She  |  she\n",
      "is  |  be\n",
      "good  |  good\n",
      "at  |  at\n",
      "many  |  many\n",
      "skills  |  skill\n",
      "like  |  like\n",
      "dancing  |  dancing\n",
      ",  |  ,\n",
      "running  |  running\n",
      ",  |  ,\n",
      "singing  |  singing\n",
      ",  |  ,\n",
      "playing  |  play\n",
      ".  |  .\n",
      "She  |  she\n",
      "also  |  also\n",
      "likes  |  like\n",
      "eating  |  eat\n",
      "Pav  |  Pav\n",
      "Bhagi  |  Bhagi\n",
      ".  |  .\n",
      "she  |  she\n",
      "has  |  have\n",
      "a  |  a\n",
      "\n",
      "  |  \n",
      "\n",
      "habit  |  habit\n",
      "of  |  of\n",
      "fishing  |  fishing\n",
      "and  |  and\n",
      "swimming  |  swim\n",
      "too  |  too\n",
      ".  |  .\n",
      "Besides  |  besides\n",
      "all  |  all\n",
      "this  |  this\n",
      ",  |  ,\n",
      "she  |  she\n",
      "is  |  be\n",
      "a  |  a\n",
      "wonderful  |  wonderful\n",
      "at  |  at\n",
      "cooking  |  cook\n",
      "too  |  too\n",
      ".  |  .\n",
      "\n",
      "  |  \n",
      "\n"
     ]
    }
   ],
   "source": [
    "# Lemmatization using spacy\n",
    "for word in doc:\n",
    "    print(word, ' | ', word.lemma_)"
   ]
  },
  {
   "cell_type": "code",
   "execution_count": 34,
   "id": "b9746690-d8d3-49d1-ad08-d8683997baf7",
   "metadata": {},
   "outputs": [
    {
     "name": "stdout",
     "output_type": "stream",
     "text": [
      "Latha be very multi talented girl . she be good at many skill like dancing , running , singing , play . she also like eat Pav Bhagi . she have a \n",
      " habit of fishing and swim too . besides all this , she be a wonderful at cook too . \n",
      "\n"
     ]
    }
   ],
   "source": [
    "#step3: joining all words in a list into string using 'join()'\n",
    "all_base_words = []\n",
    "\n",
    "for token in doc:\n",
    "  base_word =  token.lemma_\n",
    "  all_base_words.append(base_word)\n",
    "    \n",
    "final_base_text = ' '.join(all_base_words)\n",
    "print(final_base_text)"
   ]
  },
  {
   "cell_type": "code",
   "execution_count": null,
   "id": "c91be0e9-657f-4f55-93b6-0cc9a569a29a",
   "metadata": {},
   "outputs": [],
   "source": []
  }
 ],
 "metadata": {
  "kernelspec": {
   "display_name": "Python 3 (ipykernel)",
   "language": "python",
   "name": "python3"
  },
  "language_info": {
   "codemirror_mode": {
    "name": "ipython",
    "version": 3
   },
   "file_extension": ".py",
   "mimetype": "text/x-python",
   "name": "python",
   "nbconvert_exporter": "python",
   "pygments_lexer": "ipython3",
   "version": "3.12.4"
  }
 },
 "nbformat": 4,
 "nbformat_minor": 5
}

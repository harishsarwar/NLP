{
 "cells": [
  {
   "cell_type": "code",
   "execution_count": 88,
   "id": "8d867d0f-c06c-4796-99bf-a381a2fd5bb4",
   "metadata": {},
   "outputs": [],
   "source": [
    "import spacy\n",
    "# tokenization labrary"
   ]
  },
  {
   "cell_type": "markdown",
   "id": "d2d2b136-71ff-4b49-b737-1e57c433d927",
   "metadata": {},
   "source": [
    "creating laguage object"
   ]
  },
  {
   "cell_type": "code",
   "execution_count": 125,
   "id": "e122f2ca-54b5-4d93-b6e1-e9f0ccdcc22e",
   "metadata": {},
   "outputs": [
    {
     "name": "stdout",
     "output_type": "stream",
     "text": [
      "Dr.\n",
      "stange\n",
      "loves\n",
      "pav\n",
      "bhaji\n",
      "of\n",
      "munmbai\n",
      "as\n",
      "it\n",
      "cost\n",
      "only\n",
      "2\n",
      "$\n",
      "per\n",
      "plate\n"
     ]
    }
   ],
   "source": [
    "# in spacy we can create laguage object in multiple ways for multiple language.\n",
    "nlp = spacy.blank('en')\n",
    "                # blank english language conponents. en stand for english language..\n",
    "\n",
    "# then create document here we provides the text it could be a paragraph,documents,sentences i could be anything..\n",
    "doc = nlp('Dr. stange loves pav bhaji of munmbai as it cost only 2$ per plate')\n",
    "\n",
    "for token in doc:\n",
    "    print(token)"
   ]
  },
  {
   "cell_type": "code",
   "execution_count": 97,
   "id": "ba3e4445-3807-46df-b923-75c707b5812d",
   "metadata": {},
   "outputs": [
    {
     "data": {
      "text/plain": [
       "spacy.tokens.span.Span"
      ]
     },
     "execution_count": 97,
     "metadata": {},
     "output_type": "execute_result"
    }
   ],
   "source": [
    "span = doc[1:5]\n",
    "\n",
    "type(span)"
   ]
  },
  {
   "cell_type": "markdown",
   "id": "52f846cc-2465-4eb7-b04a-f968b887e138",
   "metadata": {},
   "source": [
    "# operation on token "
   ]
  },
  {
   "cell_type": "code",
   "execution_count": 98,
   "id": "d6ef9586-d113-4b6c-b003-783a640ce6b1",
   "metadata": {},
   "outputs": [
    {
     "data": {
      "text/plain": [
       "tony"
      ]
     },
     "execution_count": 98,
     "metadata": {},
     "output_type": "execute_result"
    }
   ],
   "source": [
    "doc = nlp('tony gave two $ to peter')\n",
    "token0 = doc[0]\n",
    "token0"
   ]
  },
  {
   "cell_type": "markdown",
   "id": "681be334-81fb-4d78-be1b-8eba0c3f56f1",
   "metadata": {},
   "source": [
    "# Token attributes"
   ]
  },
  {
   "cell_type": "code",
   "execution_count": 108,
   "id": "cdda5071-c37a-437d-8988-19d98a4bcde4",
   "metadata": {},
   "outputs": [
    {
     "data": {
      "text/plain": [
       "['_',\n",
       " '__bytes__',\n",
       " '__class__',\n",
       " '__delattr__',\n",
       " '__dir__',\n",
       " '__doc__',\n",
       " '__eq__',\n",
       " '__format__',\n",
       " '__ge__',\n",
       " '__getattribute__',\n",
       " '__gt__',\n",
       " '__hash__',\n",
       " '__init__',\n",
       " '__init_subclass__',\n",
       " '__le__',\n",
       " '__len__',\n",
       " '__lt__',\n",
       " '__ne__',\n",
       " '__new__',\n",
       " '__pyx_vtable__',\n",
       " '__reduce__',\n",
       " '__reduce_ex__',\n",
       " '__repr__',\n",
       " '__setattr__',\n",
       " '__sizeof__',\n",
       " '__str__',\n",
       " '__subclasshook__',\n",
       " '__unicode__',\n",
       " 'ancestors',\n",
       " 'check_flag',\n",
       " 'children',\n",
       " 'cluster',\n",
       " 'conjuncts',\n",
       " 'dep',\n",
       " 'dep_',\n",
       " 'doc',\n",
       " 'ent_id',\n",
       " 'ent_id_',\n",
       " 'ent_iob',\n",
       " 'ent_iob_',\n",
       " 'ent_kb_id',\n",
       " 'ent_kb_id_',\n",
       " 'ent_type',\n",
       " 'ent_type_',\n",
       " 'get_extension',\n",
       " 'has_dep',\n",
       " 'has_extension',\n",
       " 'has_head',\n",
       " 'has_morph',\n",
       " 'has_vector',\n",
       " 'head',\n",
       " 'i',\n",
       " 'idx',\n",
       " 'iob_strings',\n",
       " 'is_alpha',\n",
       " 'is_ancestor',\n",
       " 'is_ascii',\n",
       " 'is_bracket',\n",
       " 'is_currency',\n",
       " 'is_digit',\n",
       " 'is_left_punct',\n",
       " 'is_lower',\n",
       " 'is_oov',\n",
       " 'is_punct',\n",
       " 'is_quote',\n",
       " 'is_right_punct',\n",
       " 'is_sent_end',\n",
       " 'is_sent_start',\n",
       " 'is_space',\n",
       " 'is_stop',\n",
       " 'is_title',\n",
       " 'is_upper',\n",
       " 'lang',\n",
       " 'lang_',\n",
       " 'left_edge',\n",
       " 'lefts',\n",
       " 'lemma',\n",
       " 'lemma_',\n",
       " 'lex',\n",
       " 'lex_id',\n",
       " 'like_email',\n",
       " 'like_num',\n",
       " 'like_url',\n",
       " 'lower',\n",
       " 'lower_',\n",
       " 'morph',\n",
       " 'n_lefts',\n",
       " 'n_rights',\n",
       " 'nbor',\n",
       " 'norm',\n",
       " 'norm_',\n",
       " 'orth',\n",
       " 'orth_',\n",
       " 'pos',\n",
       " 'pos_',\n",
       " 'prefix',\n",
       " 'prefix_',\n",
       " 'prob',\n",
       " 'rank',\n",
       " 'remove_extension',\n",
       " 'right_edge',\n",
       " 'rights',\n",
       " 'sent',\n",
       " 'sent_start',\n",
       " 'sentiment',\n",
       " 'set_extension',\n",
       " 'set_morph',\n",
       " 'shape',\n",
       " 'shape_',\n",
       " 'similarity',\n",
       " 'subtree',\n",
       " 'suffix',\n",
       " 'suffix_',\n",
       " 'tag',\n",
       " 'tag_',\n",
       " 'tensor',\n",
       " 'text',\n",
       " 'text_with_ws',\n",
       " 'vector',\n",
       " 'vector_norm',\n",
       " 'vocab',\n",
       " 'whitespace_']"
      ]
     },
     "execution_count": 108,
     "metadata": {},
     "output_type": "execute_result"
    }
   ],
   "source": [
    "dir(token0)\n",
    "# dir shows all the methodes of python variable(token0) called token attributes\n"
   ]
  },
  {
   "cell_type": "code",
   "execution_count": 103,
   "id": "93f5ca08-0c83-46eb-8b4b-56d433699da6",
   "metadata": {},
   "outputs": [
    {
     "data": {
      "text/plain": [
       "True"
      ]
     },
     "execution_count": 103,
     "metadata": {},
     "output_type": "execute_result"
    }
   ],
   "source": [
    "token0.is_alpha"
   ]
  },
  {
   "cell_type": "code",
   "execution_count": 104,
   "id": "b8be2f1b-b8cb-4ab9-9604-4bc0ca155133",
   "metadata": {},
   "outputs": [
    {
     "data": {
      "text/plain": [
       "False"
      ]
     },
     "execution_count": 104,
     "metadata": {},
     "output_type": "execute_result"
    }
   ],
   "source": [
    "token.like_num"
   ]
  },
  {
   "cell_type": "code",
   "execution_count": 107,
   "id": "46cfce5e-301c-49e9-b943-fee76adecacd",
   "metadata": {},
   "outputs": [
    {
     "name": "stdout",
     "output_type": "stream",
     "text": [
      "tony ==> index:  0 is_alpha: True is_punct: False like_num: False is_currency: False\n",
      "gave ==> index:  1 is_alpha: True is_punct: False like_num: False is_currency: False\n",
      "two ==> index:  2 is_alpha: True is_punct: False like_num: True is_currency: False\n",
      "$ ==> index:  3 is_alpha: False is_punct: False like_num: False is_currency: True\n",
      "to ==> index:  4 is_alpha: True is_punct: False like_num: False is_currency: False\n",
      "peter ==> index:  5 is_alpha: True is_punct: False like_num: False is_currency: False\n"
     ]
    }
   ],
   "source": [
    "# quikly print some tokens attributes\n",
    "\n",
    "for token in doc:\n",
    "    print(token, \"==>\", \"index: \", token.i, \"is_alpha:\", token.is_alpha, \n",
    "          \"is_punct:\", token.is_punct, \n",
    "          \"like_num:\", token.like_num,\n",
    "          \"is_currency:\", token.is_currency,\n",
    "         )"
   ]
  },
  {
   "cell_type": "code",
   "execution_count": 113,
   "id": "83438c3e-88b8-413a-814e-5ca3e0e5ce19",
   "metadata": {},
   "outputs": [
    {
     "data": {
      "text/plain": [
       "['Dayton high school, 8th grade students information\\n',\n",
       " '==================================================\\n',\n",
       " '\\n',\n",
       " 'Name\\tbirth day   \\temail\\n',\n",
       " '-----\\t------------\\t------\\n',\n",
       " 'Virat   5 June, 1882    virat@kohli.com\\n',\n",
       " 'Maria\\t12 April, 2001  maria@sharapova.com\\n',\n",
       " 'Serena  24 June, 1998   serena@williams.com \\n',\n",
       " 'Joe      1 May, 1997    joe@root.com\\n',\n",
       " '\\n',\n",
       " '\\n',\n",
       " '\\n']"
      ]
     },
     "execution_count": 113,
     "metadata": {},
     "output_type": "execute_result"
    }
   ],
   "source": [
    "# read plan text into python\n",
    "with open('students.txt') as f:\n",
    "    text = f.readlines()\n",
    "text"
   ]
  },
  {
   "cell_type": "code",
   "execution_count": 114,
   "id": "1d13d637-fd53-41ef-b534-475d6a33260a",
   "metadata": {},
   "outputs": [
    {
     "data": {
      "text/plain": [
       "'Dayton high school, 8th grade students information\\n ==================================================\\n \\n Name\\tbirth day   \\temail\\n -----\\t------------\\t------\\n Virat   5 June, 1882    virat@kohli.com\\n Maria\\t12 April, 2001  maria@sharapova.com\\n Serena  24 June, 1998   serena@williams.com \\n Joe      1 May, 1997    joe@root.com\\n \\n \\n \\n'"
      ]
     },
     "execution_count": 114,
     "metadata": {},
     "output_type": "execute_result"
    }
   ],
   "source": [
    "# converting list of text into a single text\n",
    "text = ' '.join(text)\n",
    "text"
   ]
  },
  {
   "cell_type": "code",
   "execution_count": 118,
   "id": "b180ee4f-ff0b-4ab9-9e2c-e01fcdc9e8a5",
   "metadata": {},
   "outputs": [
    {
     "data": {
      "text/plain": [
       "['virat@kohli.com',\n",
       " 'maria@sharapova.com',\n",
       " 'serena@williams.com',\n",
       " 'joe@root.com']"
      ]
     },
     "execution_count": 118,
     "metadata": {},
     "output_type": "execute_result"
    }
   ],
   "source": [
    "doc = nlp(text)\n",
    "emails = []\n",
    "for token in doc:\n",
    "    if token.like_email:  # like_email come from token attributes.\n",
    "        emails.append(token.text)\n",
    "\n",
    "emails"
   ]
  },
  {
   "cell_type": "markdown",
   "id": "33b648d1-2723-48b3-94b4-a7ce5b0e443c",
   "metadata": {},
   "source": [
    "# Hindi tokenization."
   ]
  },
  {
   "cell_type": "code",
   "execution_count": 120,
   "id": "aa8ea81a-2360-44bf-a463-eda0b42d3f1a",
   "metadata": {},
   "outputs": [
    {
     "name": "stdout",
     "output_type": "stream",
     "text": [
      "भैया False False\n",
      "जी False False\n",
      "! False False\n",
      "5000 False True\n",
      "₹ True False\n",
      "उधार False False\n",
      "थे False False\n",
      "वो False False\n",
      "वापस False False\n",
      "देदो False False\n"
     ]
    }
   ],
   "source": [
    "nlp = spacy.blank('hi')\n",
    "                # hin used for hindi language.\n",
    "doc = nlp('भैया जी! 5000 ₹ उधार थे वो वापस देदो')\n",
    "\n",
    "for token in doc:\n",
    "    print(token, token.is_currency,token.like_num)"
   ]
  },
  {
   "cell_type": "markdown",
   "id": "334f6e3b-e3d1-41e5-9605-21d684c6c2ac",
   "metadata": {},
   "source": [
    "# customization in text"
   ]
  },
  {
   "cell_type": "code",
   "execution_count": 127,
   "id": "12760155-81ee-44c4-8ad5-b537b576ac59",
   "metadata": {},
   "outputs": [
    {
     "data": {
      "text/plain": [
       "['gimme', 'double', 'cheese', 'extra', 'large', 'healthy', 'pizza']"
      ]
     },
     "execution_count": 127,
     "metadata": {},
     "output_type": "execute_result"
    }
   ],
   "source": [
    "doc = nlp('gimme double cheese extra large healthy pizza')\n",
    "        # here in gimme there are 2 word give me but spacy tokenizes it in to one token.\n",
    "tokens = [token.text for token in doc]\n",
    "tokens"
   ]
  },
  {
   "cell_type": "code",
   "execution_count": 128,
   "id": "965e9acf-6a51-4fbc-9052-8a93c9ccaac3",
   "metadata": {},
   "outputs": [
    {
     "data": {
      "text/plain": [
       "['gim', 'me', 'double', 'cheeese', 'extra', 'large', 'healthy', 'pizza']"
      ]
     },
     "execution_count": 128,
     "metadata": {},
     "output_type": "execute_result"
    }
   ],
   "source": [
    "# convert gimme token into two token\n",
    "\n",
    "from spacy.symbols import ORTH\n",
    "nlp.tokenizer.add_special_case('gimme',[\n",
    "    {ORTH:'gim'},\n",
    "    {ORTH:'me'}\n",
    "])\n",
    "doc = nlp('gimme double cheeese extra large healthy pizza')\n",
    "tokens = [token.text for token in doc]\n",
    "tokens"
   ]
  },
  {
   "cell_type": "markdown",
   "id": "bc737a4f-c5b6-47e9-84d0-84e76225caa6",
   "metadata": {},
   "source": [
    "# Sentence Tokenizing"
   ]
  },
  {
   "cell_type": "code",
   "execution_count": 130,
   "id": "1dd78172-fc44-4f93-8cc0-0dce9242baf7",
   "metadata": {},
   "outputs": [
    {
     "data": {
      "text/plain": [
       "<spacy.pipeline.sentencizer.Sentencizer at 0x2ca8f56d900>"
      ]
     },
     "execution_count": 130,
     "metadata": {},
     "output_type": "execute_result"
    }
   ],
   "source": [
    "# we add blank method for space in nlp\n",
    "# so we have to add pipe to sentencizer\n",
    "\n",
    "nlp.add_pipe('sentencizer')"
   ]
  },
  {
   "cell_type": "code",
   "execution_count": 135,
   "id": "f3802be5-c617-41a2-a3e4-c6c7f4955a1f",
   "metadata": {},
   "outputs": [
    {
     "data": {
      "text/plain": [
       "['sentencizer']"
      ]
     },
     "execution_count": 135,
     "metadata": {},
     "output_type": "execute_result"
    }
   ],
   "source": [
    "nlp.pipe_names"
   ]
  },
  {
   "cell_type": "code",
   "execution_count": 140,
   "id": "8482f846-e61f-4266-9772-89bbaf5aa07c",
   "metadata": {},
   "outputs": [
    {
     "name": "stdout",
     "output_type": "stream",
     "text": [
      "i was fall in love.\n",
      "but she donot\n"
     ]
    }
   ],
   "source": [
    "doc = nlp('i was fall in love. but she donot')\n",
    "for sentences in doc.sents: # sents method of spacy used for sentence tokenizartion.\n",
    "    print(sentences)"
   ]
  },
  {
   "cell_type": "code",
   "execution_count": null,
   "id": "90ee2ff7-b223-49d9-a797-5db944d973c5",
   "metadata": {},
   "outputs": [],
   "source": []
  },
  {
   "cell_type": "code",
   "execution_count": null,
   "id": "98cf2339-9a6d-4dde-ad99-26894e03fe9e",
   "metadata": {},
   "outputs": [],
   "source": []
  }
 ],
 "metadata": {
  "kernelspec": {
   "display_name": "Python 3 (ipykernel)",
   "language": "python",
   "name": "python3"
  },
  "language_info": {
   "codemirror_mode": {
    "name": "ipython",
    "version": 3
   },
   "file_extension": ".py",
   "mimetype": "text/x-python",
   "name": "python",
   "nbconvert_exporter": "python",
   "pygments_lexer": "ipython3",
   "version": "3.12.4"
  }
 },
 "nbformat": 4,
 "nbformat_minor": 5
}

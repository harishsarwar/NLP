{
 "cells": [
  {
   "cell_type": "code",
   "execution_count": 1,
   "id": "116dc98b-b336-4b97-bdef-44ae4d701b71",
   "metadata": {},
   "outputs": [],
   "source": [
    "import re"
   ]
  },
  {
   "cell_type": "code",
   "execution_count": 2,
   "id": "dc02f538-ae33-4b21-bad3-e83e09724c3d",
   "metadata": {},
   "outputs": [],
   "source": [
    "chat1 = 'codebasics: you ask lot of questions 😠  1235678912, abc@xyz.com, 6749742919'\n",
    "chat2 = 'codebasics: here it is: (123)-567-8912, abc@xyz.com'\n",
    "chat3 = 'codebasics: yes, phone: 1235678912 email: abc@xyz.com'"
   ]
  },
  {
   "cell_type": "markdown",
   "id": "476573e7-42d3-4c6b-a394-c9af5543a246",
   "metadata": {},
   "source": [
    "# retrive number by r_expression"
   ]
  },
  {
   "cell_type": "code",
   "execution_count": 3,
   "id": "ee08f5f5-4287-4510-afd0-9fe5b06c723b",
   "metadata": {},
   "outputs": [
    {
     "data": {
      "text/plain": [
       "['(123)-567-8912']"
      ]
     },
     "execution_count": 3,
     "metadata": {},
     "output_type": "execute_result"
    }
   ],
   "source": [
    "#regular expression for number #\n",
    "pattern = '\\d{10}|\\(\\d{3}\\)-\\d{3}-\\d{4}' \n",
    "#regular expression of chates for phone number code wirtten in (regex101). and we just copy past here from there.\n",
    "#there are 2 regulare expression seperated by the |(pipe) #\n",
    "\n",
    "matches1 = re.findall(pattern,chat1)\n",
    "matches2 = re.findall(pattern,chat2)\n",
    "matches3= re.findall(pattern,chat3)\n",
    "\n",
    "matches2"
   ]
  },
  {
   "cell_type": "markdown",
   "id": "a621e086-c105-4e31-b703-66c597a4e867",
   "metadata": {},
   "source": [
    "# retrive email"
   ]
  },
  {
   "cell_type": "code",
   "execution_count": 4,
   "id": "65e0ff80-9a88-4b24-96c9-30096f279d3f",
   "metadata": {},
   "outputs": [
    {
     "data": {
      "text/plain": [
       "['abc@xyz.com']"
      ]
     },
     "execution_count": 4,
     "metadata": {},
     "output_type": "execute_result"
    }
   ],
   "source": [
    "#regular expression for email#\n",
    "pattern = '[a-zA-Z0-9_]*@[a-zA-Z0-9]*\\.[a-zA-Z]*'\n",
    "matches = re.findall(pattern,chat2)\n",
    "matches"
   ]
  },
  {
   "cell_type": "markdown",
   "id": "3e62f619-c8f2-4e42-bd71-565896bd6900",
   "metadata": {},
   "source": [
    "# regular expression for order"
   ]
  },
  {
   "cell_type": "code",
   "execution_count": 5,
   "id": "15fe19bb-484e-4372-b6d1-0cdd667f4528",
   "metadata": {},
   "outputs": [],
   "source": [
    "chat1='codebasics: Hello, I am having an issue with my order # 412889912'\n",
    "chat2='codebasics: I have a problem with my order number 412889912'\n",
    "chat3='codebasics: My order 412889912 is having an issue, I was charged 300$ when online it says 280$'\n",
    "\n"
   ]
  },
  {
   "cell_type": "code",
   "execution_count": 6,
   "id": "5bed2a8c-0869-4559-9f3c-e49bbff4223e",
   "metadata": {},
   "outputs": [
    {
     "data": {
      "text/plain": [
       "['412889912']"
      ]
     },
     "execution_count": 6,
     "metadata": {},
     "output_type": "execute_result"
    }
   ],
   "source": [
    "patter = 'order[^\\d]*(\\d*)'\n",
    "matches = re.findall(patter,chat1)\n",
    "matches"
   ]
  },
  {
   "cell_type": "code",
   "execution_count": 7,
   "id": "d6639d48-337c-48ca-ac21-b2d251d54dc8",
   "metadata": {},
   "outputs": [
    {
     "data": {
      "text/plain": [
       "['50']"
      ]
     },
     "execution_count": 7,
     "metadata": {},
     "output_type": "execute_result"
    }
   ],
   "source": [
    "\n",
    "text='''\n",
    "Born\tElon Reeve Musk\n",
    "June 28, 1971 (age 50)\n",
    "Pretoria, Transvaal, South Africa\n",
    "Citizenship\t\n",
    "South Africa (1971–present)\n",
    "Canada (1971–present)\n",
    "United States (2002–present)\n",
    "Education\tUniversity of Pennsylvania (BS, BA)\n",
    "Title\t\n",
    "Founder, CEO and Chief Engineer of SpaceX\n",
    "CEO and product architect of Tesla, Inc.\n",
    "Founder of The Boring Company and X.com (now part of PayPal)\n",
    "Co-founder of Neuralink, OpenAI, and Zip2\n",
    "Spouse(s)\t\n",
    "Justine Wilson\n",
    "​\n",
    "​(m. 2000; div. 2008)​\n",
    "Talulah Riley\n",
    "​\n",
    "​(m. 2010; div. 2012)​\n",
    "​\n",
    "​(m. 2013; div. 2016)\n",
    "'''\n",
    "pattern = 'age (\\d+)'\n",
    "matches = re.findall(pattern,text)\n",
    "matches\n"
   ]
  },
  {
   "cell_type": "code",
   "execution_count": 8,
   "id": "a304201e-7fd4-486d-ab55-a1132ea80653",
   "metadata": {},
   "outputs": [
    {
     "data": {
      "text/plain": [
       "'Elon Reeve Musk'"
      ]
     },
     "execution_count": 8,
     "metadata": {},
     "output_type": "execute_result"
    }
   ],
   "source": [
    "#born#\n",
    "pattern = 'Born(.*)\\n'\n",
    "born = re.findall(pattern,text)\n",
    "born[0].strip()"
   ]
  },
  {
   "cell_type": "code",
   "execution_count": 9,
   "id": "862bebb8-5da4-46fc-9833-c956428bbfb5",
   "metadata": {},
   "outputs": [
    {
     "data": {
      "text/plain": [
       "'June 28, 1971'"
      ]
     },
     "execution_count": 9,
     "metadata": {},
     "output_type": "execute_result"
    }
   ],
   "source": [
    "#born date #\n",
    "pattern = 'Born.*\\n(.*)\\(age'\n",
    "matches = re.findall(pattern,text)\n",
    "matches[0].strip()"
   ]
  },
  {
   "cell_type": "code",
   "execution_count": 11,
   "id": "2bcc98b4-0c81-4be9-98e6-b64b16ac9529",
   "metadata": {},
   "outputs": [
    {
     "data": {
      "text/plain": [
       "['Pretoria, Transvaal, South Africa']"
      ]
     },
     "execution_count": 11,
     "metadata": {},
     "output_type": "execute_result"
    }
   ],
   "source": [
    "#birth place#\n",
    "pattern = '\\(age.*\\n(.*)'\n",
    "matches = re.findall(pattern, text)\n",
    "matches"
   ]
  },
  {
   "cell_type": "code",
   "execution_count": null,
   "id": "230decb5-a23b-4172-b6ae-521c840080b1",
   "metadata": {},
   "outputs": [],
   "source": []
  }
 ],
 "metadata": {
  "kernelspec": {
   "display_name": "Python 3 (ipykernel)",
   "language": "python",
   "name": "python3"
  },
  "language_info": {
   "codemirror_mode": {
    "name": "ipython",
    "version": 3
   },
   "file_extension": ".py",
   "mimetype": "text/x-python",
   "name": "python",
   "nbconvert_exporter": "python",
   "pygments_lexer": "ipython3",
   "version": "3.12.4"
  }
 },
 "nbformat": 4,
 "nbformat_minor": 5
}

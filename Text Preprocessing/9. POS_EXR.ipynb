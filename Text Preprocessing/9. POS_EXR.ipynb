{
 "cells": [
  {
   "cell_type": "markdown",
   "id": "20a3d123-78a7-421e-a97d-d918a7708fe8",
   "metadata": {},
   "source": [
    "#  Exercise for Spacy POS \n",
    "\n",
    "1. You are parsing a news story from cnbc.com. News story is stores in news_story.txt which is available in this same folder on github. You need to,story"
   ]
  },
  {
   "cell_type": "code",
   "execution_count": 70,
   "id": "52ea506c-ddeb-452d-85bf-0f547556e3ed",
   "metadata": {},
   "outputs": [],
   "source": [
    "import spacy"
   ]
  },
  {
   "cell_type": "code",
   "execution_count": 72,
   "id": "cf056d9f-57fc-42d9-9d22-8a7c6405d5ac",
   "metadata": {},
   "outputs": [],
   "source": [
    "nlp = spacy.load('en_core_web_sm')"
   ]
  },
  {
   "cell_type": "markdown",
   "id": "d29ac554-7c3c-457a-9349-a113c8320a92",
   "metadata": {},
   "source": [
    "2.Extract all NOUN tokens from this story. You will have to read the file in python first to collect all the text and then extract NOUNs in a python list\r\n"
   ]
  },
  {
   "cell_type": "code",
   "execution_count": 74,
   "id": "9c50121e-0d9e-4373-b35f-485202f56a48",
   "metadata": {},
   "outputs": [
    {
     "data": {
      "text/plain": [
       "'Inflation rose again in April, continuing a climb that has pushed consumers to the brink and is threatening the economic expansion, the Bureau of Labor Statistics reported Wednesday.\\n\\nThe consumer price index, a broad-based measure of prices for goods and services, increased 8.3% from a year ago, higher than the Dow Jones estimate for an 8.1% gain. That represented a slight ease from Marchâ€™s peak but was still close to the highest level since the summer of 1982.\\n\\nRemoving volatile food and ene'"
      ]
     },
     "execution_count": 74,
     "metadata": {},
     "output_type": "execute_result"
    }
   ],
   "source": [
    "with open('news_story.txt') as f:\n",
    "    news_text = f.read()\n",
    "news_text[:500]"
   ]
  },
  {
   "cell_type": "markdown",
   "id": "e3e18547-fddb-4086-99e0-d3bf067a38ae",
   "metadata": {},
   "source": [
    "3. extract NOUNs in a python list"
   ]
  },
  {
   "cell_type": "code",
   "execution_count": 77,
   "id": "90bc6b9e-6bff-4a54-ab5b-b93fa494d3e5",
   "metadata": {},
   "outputs": [],
   "source": [
    "doc = nlp(news_text)\n",
    "noun_list = []\n",
    "for token in doc:\n",
    "    if token.pos_ == 'NOUN':\n",
    "        noun_list.append(token)\n",
    "        "
   ]
  },
  {
   "cell_type": "code",
   "execution_count": 79,
   "id": "2b26e463-0ac9-4d8b-8aea-98174b55dacd",
   "metadata": {},
   "outputs": [
    {
     "data": {
      "text/plain": [
       "[Inflation,\n",
       " climb,\n",
       " consumers,\n",
       " brink,\n",
       " expansion,\n",
       " consumer,\n",
       " price,\n",
       " index,\n",
       " measure,\n",
       " prices]"
      ]
     },
     "execution_count": 79,
     "metadata": {},
     "output_type": "execute_result"
    }
   ],
   "source": [
    "noun_list[:10]"
   ]
  },
  {
   "cell_type": "markdown",
   "id": "024fbb78-10e1-4a3a-aa07-8e79e181e57b",
   "metadata": {},
   "source": [
    "4. Extracting NUM in list"
   ]
  },
  {
   "cell_type": "code",
   "execution_count": 80,
   "id": "5f2a816d-805c-4f89-be21-61980358973f",
   "metadata": {},
   "outputs": [],
   "source": [
    "num_list = []\n",
    "for token in doc:\n",
    "    if token.pos_ == 'NUM':\n",
    "        num_list.append(token)"
   ]
  },
  {
   "cell_type": "code",
   "execution_count": 81,
   "id": "0e6d87a9-310f-4277-92ba-c60cecef0c95",
   "metadata": {},
   "outputs": [
    {
     "data": {
      "text/plain": [
       "[8.3, 8.1, 1982, 6.2, 6, â€, 0.3, 0.2, 0.6, 0.4]"
      ]
     },
     "execution_count": 81,
     "metadata": {},
     "output_type": "execute_result"
    }
   ],
   "source": [
    "num_list[:10]"
   ]
  },
  {
   "cell_type": "markdown",
   "id": "7db5e84a-6298-4920-83d6-802a566b3c30",
   "metadata": {},
   "source": [
    "5. Print a count of all POS tags."
   ]
  },
  {
   "cell_type": "code",
   "execution_count": 85,
   "id": "871ab837-c8ca-4b05-990c-300fc5033506",
   "metadata": {},
   "outputs": [
    {
     "data": {
      "text/plain": [
       "{92: 98,\n",
       " 100: 27,\n",
       " 86: 15,\n",
       " 85: 39,\n",
       " 96: 17,\n",
       " 97: 32,\n",
       " 90: 34,\n",
       " 95: 4,\n",
       " 87: 13,\n",
       " 89: 10,\n",
       " 84: 23,\n",
       " 103: 7,\n",
       " 93: 20,\n",
       " 94: 4,\n",
       " 98: 8,\n",
       " 101: 1}"
      ]
     },
     "execution_count": 85,
     "metadata": {},
     "output_type": "execute_result"
    }
   ],
   "source": [
    "count =  doc.count_by(spacy.attrs.POS)\n",
    "count"
   ]
  },
  {
   "cell_type": "code",
   "execution_count": 84,
   "id": "899be9d6-14e0-4d13-a172-682840922259",
   "metadata": {},
   "outputs": [
    {
     "name": "stdout",
     "output_type": "stream",
     "text": [
      "NOUN | 98\n",
      "VERB | 27\n",
      "ADV | 15\n",
      "ADP | 39\n",
      "PROPN | 17\n",
      "PUNCT | 32\n",
      "DET | 34\n",
      "PRON | 4\n",
      "AUX | 13\n",
      "CCONJ | 10\n",
      "ADJ | 23\n",
      "SPACE | 7\n",
      "NUM | 20\n",
      "PART | 4\n",
      "SCONJ | 8\n",
      "X | 1\n"
     ]
    }
   ],
   "source": [
    "for k,v in count.items():\n",
    "    print(doc.vocab[k].text, '|', v)"
   ]
  },
  {
   "cell_type": "code",
   "execution_count": null,
   "id": "4f192aac-4bff-428f-b839-8196dbad07e9",
   "metadata": {},
   "outputs": [],
   "source": []
  }
 ],
 "metadata": {
  "kernelspec": {
   "display_name": "Python 3 (ipykernel)",
   "language": "python",
   "name": "python3"
  },
  "language_info": {
   "codemirror_mode": {
    "name": "ipython",
    "version": 3
   },
   "file_extension": ".py",
   "mimetype": "text/x-python",
   "name": "python",
   "nbconvert_exporter": "python",
   "pygments_lexer": "ipython3",
   "version": "3.12.4"
  }
 },
 "nbformat": 4,
 "nbformat_minor": 5
}

{
 "cells": [
  {
   "cell_type": "code",
   "execution_count": 198,
   "id": "1ce7fdd4-e1f6-4260-90b2-dafcd8c90df7",
   "metadata": {},
   "outputs": [],
   "source": [
    "import nltk\n",
    "import spacy"
   ]
  },
  {
   "cell_type": "markdown",
   "id": "1f9e9291-0111-424d-adcc-4a8de5788330",
   "metadata": {},
   "source": [
    "# stemming in NLTK"
   ]
  },
  {
   "cell_type": "code",
   "execution_count": 201,
   "id": "e53a188f-62f1-4c84-af6d-6be393fc6f90",
   "metadata": {},
   "outputs": [],
   "source": [
    "from nltk.stem import PorterStemmer\n",
    "# PorterStemmer is library of stemming\n",
    "\n",
    "stemmer = PorterStemmer()"
   ]
  },
  {
   "cell_type": "code",
   "execution_count": 204,
   "id": "0250f629-99bb-4d47-a7d7-b79248e3ebf1",
   "metadata": {},
   "outputs": [
    {
     "name": "stdout",
     "output_type": "stream",
     "text": [
      "eating  |  eat\n",
      "eats  |  eat\n",
      "ate  |  ate\n",
      "adjustable  |  adjust\n",
      "rating  |  rate\n",
      "ability  |  abil\n",
      "meeting  |  meet\n"
     ]
    }
   ],
   "source": [
    "words = ['eating','eats','ate','adjustable','rating','ability','meeting']\n",
    "for word in words:\n",
    "    print(word, ' | ' , stemmer.stem(word))\n",
    "# dump bcz working on fixes rule see the rusult it gives some time same result and some time gives stemming word they dont mean anythink."
   ]
  },
  {
   "cell_type": "markdown",
   "id": "860b1e7f-67b9-45c8-9d2d-02995111a17d",
   "metadata": {},
   "source": [
    "# Lemmatization in spacy"
   ]
  },
  {
   "cell_type": "code",
   "execution_count": 209,
   "id": "1aaa39b8-011a-4233-91ac-93ca6098f4a3",
   "metadata": {},
   "outputs": [
    {
     "name": "stdout",
     "output_type": "stream",
     "text": [
      "eating  |  eat\n",
      "eats  |  eat\n",
      "ate  |  eat\n",
      "adjustable  |  adjustable\n",
      "rating  |  rating\n",
      "ability  |  ability\n",
      "meeting  |  meeting\n"
     ]
    }
   ],
   "source": [
    "nlp =  spacy.load('en_core_web_sm')\n",
    "doc = nlp('eating eats ate adjustable rating ability meeting')\n",
    "for word in doc:\n",
    "    print(word, ' | ', word.lemma_)"
   ]
  },
  {
   "cell_type": "code",
   "execution_count": 211,
   "id": "37496f5a-0b0f-4543-884e-e5a5e2e4d419",
   "metadata": {},
   "outputs": [
    {
     "data": {
      "text/plain": [
       "['tok2vec', 'tagger', 'parser', 'attribute_ruler', 'lemmatizer', 'ner']"
      ]
     },
     "execution_count": 211,
     "metadata": {},
     "output_type": "execute_result"
    }
   ],
   "source": [
    "nlp.pipe_names"
   ]
  },
  {
   "cell_type": "code",
   "execution_count": 212,
   "id": "b1fe5104-115d-4f9b-bb08-74ac4b61ef1f",
   "metadata": {},
   "outputs": [
    {
     "name": "stdout",
     "output_type": "stream",
     "text": [
      "Bro | bro\n",
      ", | ,\n",
      "you | you\n",
      "wanna | wanna\n",
      "go | go\n",
      "? | ?\n",
      "Brah | Brah\n",
      ", | ,\n",
      "do | do\n",
      "n't | not\n",
      "say | say\n",
      "no | no\n",
      "! | !\n",
      "I | I\n",
      "am | be\n",
      "exhausted | exhaust\n"
     ]
    }
   ],
   "source": [
    "doc = nlp(\"Bro, you wanna go? Brah, don't say no! I am exhausted\")\n",
    "for token in doc:\n",
    "    print(token.text, \"|\", token.lemma_)"
   ]
  },
  {
   "cell_type": "code",
   "execution_count": 213,
   "id": "6dba131c-0bc8-48f3-adb1-376a954e3631",
   "metadata": {},
   "outputs": [
    {
     "name": "stdout",
     "output_type": "stream",
     "text": [
      "Bro | Brother\n",
      ", | ,\n",
      "you | you\n",
      "wanna | wanna\n",
      "go | go\n",
      "? | ?\n",
      "Brah | Brother\n",
      ", | ,\n",
      "do | do\n",
      "n't | not\n",
      "say | say\n",
      "no | no\n",
      "! | !\n",
      "I | I\n",
      "am | be\n",
      "exhausted | exhaust\n"
     ]
    }
   ],
   "source": [
    "# customize the pipeline bcz see the previouse result it gives same token\n",
    "# add 'attribute_ruler' component of english pipeline\n",
    "\n",
    "ar = nlp.get_pipe('attribute_ruler')\n",
    "\n",
    "ar.add([[{\"TEXT\":\"Bro\"}],[{\"TEXT\":\"Brah\"}]],{\"LEMMA\":\"Brother\"})\n",
    "\n",
    "doc = nlp(\"Bro, you wanna go? Brah, don't say no! I am exhausted\")\n",
    "for token in doc:\n",
    "    print(token.text, \"|\", token.lemma_)"
   ]
  }
 ],
 "metadata": {
  "kernelspec": {
   "display_name": "Python 3 (ipykernel)",
   "language": "python",
   "name": "python3"
  },
  "language_info": {
   "codemirror_mode": {
    "name": "ipython",
    "version": 3
   },
   "file_extension": ".py",
   "mimetype": "text/x-python",
   "name": "python",
   "nbconvert_exporter": "python",
   "pygments_lexer": "ipython3",
   "version": "3.12.4"
  }
 },
 "nbformat": 4,
 "nbformat_minor": 5
}

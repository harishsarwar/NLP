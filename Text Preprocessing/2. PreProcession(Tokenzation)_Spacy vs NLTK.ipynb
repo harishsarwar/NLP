{
 "cells": [
  {
   "cell_type": "code",
   "execution_count": 62,
   "id": "45965410-2f58-4a6f-9b19-f68eacadf8a4",
   "metadata": {},
   "outputs": [],
   "source": [
    "import spacy"
   ]
  },
  {
   "cell_type": "markdown",
   "id": "94816451-2829-44ce-b504-4e47c5ce98bb",
   "metadata": {},
   "source": [
    "# spacy(object oriented library)\n",
    "used for tokenized word and sentense using spacy english package and spacy sents objec."
   ]
  },
  {
   "cell_type": "code",
   "execution_count": 67,
   "id": "cd820e12-1e96-4b5c-8929-b9447fe62d06",
   "metadata": {},
   "outputs": [
    {
     "name": "stdout",
     "output_type": "stream",
     "text": [
      "Dr. strange loves pav bhaji of mumbai.\n",
      "Hulk loves chaat of delhi\n"
     ]
    }
   ],
   "source": [
    "nlp = spacy.load('en_core_web_sm')\n",
    "                # english package for spacy which we pip installed in anaconda command prompt\n",
    "                # en stand for english language object which havew capibilities to read and understand the english language..\n",
    "\n",
    "doc = nlp('Dr. strange loves pav bhaji of mumbai. Hulk loves chaat of delhi')\n",
    "\n",
    "# sentences tokenization in spacy \n",
    "\n",
    "for sentence in doc.sents: # sents is object of soacy\n",
    "    print(sentence)"
   ]
  },
  {
   "cell_type": "code",
   "execution_count": 68,
   "id": "72089d5b-2a6f-4f0a-9da9-9af2f2cd67c3",
   "metadata": {},
   "outputs": [
    {
     "name": "stdout",
     "output_type": "stream",
     "text": [
      "Dr.\n",
      "strange\n",
      "loves\n",
      "pav\n",
      "bhaji\n",
      "of\n",
      "mumbai\n",
      ".\n",
      "Hulk\n",
      "loves\n",
      "chaat\n",
      "of\n",
      "delhi\n"
     ]
    }
   ],
   "source": [
    "# words tokenization.\n",
    "\n",
    "for sentence in doc.sents:\n",
    "    for word in sentence:\n",
    "        print(word)"
   ]
  },
  {
   "cell_type": "markdown",
   "id": "363de7b5-1676-4b5c-932e-49562c192165",
   "metadata": {},
   "source": [
    "# NLTK\n",
    "string tokenization library.work same as spacy.but  so many model install for the operation. and doesnot workk well as spacy"
   ]
  },
  {
   "cell_type": "code",
   "execution_count": 82,
   "id": "a93bddf5-649b-4c1b-8ae6-7b93a623a06e",
   "metadata": {},
   "outputs": [
    {
     "name": "stdout",
     "output_type": "stream",
     "text": [
      "showing info https://raw.githubusercontent.com/nltk/nltk_data/gh-pages/index.xml\n"
     ]
    },
    {
     "data": {
      "text/plain": [
       "True"
      ]
     },
     "execution_count": 82,
     "metadata": {},
     "output_type": "execute_result"
    }
   ],
   "source": [
    "import nltk\n",
    "nltk.download() # downlooding all the pachage related NLTK"
   ]
  },
  {
   "cell_type": "code",
   "execution_count": 83,
   "id": "36f85936-0633-4042-bd67-81c6a9dff66e",
   "metadata": {},
   "outputs": [],
   "source": [
    "from nltk.tokenize import sent_tokenize"
   ]
  },
  {
   "cell_type": "code",
   "execution_count": 84,
   "id": "55a31758-13f5-4a5b-bd65-40136ad0529c",
   "metadata": {},
   "outputs": [
    {
     "data": {
      "text/plain": [
       "['Dr. strange loves pav bhaji of mumbai.', 'Hulk loves chaat of delhi']"
      ]
     },
     "execution_count": 84,
     "metadata": {},
     "output_type": "execute_result"
    }
   ],
   "source": [
    "sent_tokenize('Dr. strange loves pav bhaji of mumbai. Hulk loves chaat of delhi')"
   ]
  },
  {
   "cell_type": "code",
   "execution_count": 85,
   "id": "0b63bed2-85a1-47ce-9c22-799f6f7817ca",
   "metadata": {},
   "outputs": [],
   "source": [
    "# see the result it tokenised as string in 3d array"
   ]
  },
  {
   "cell_type": "code",
   "execution_count": 87,
   "id": "c3ef8d64-2e0f-4265-a73c-b4687a26f5e2",
   "metadata": {},
   "outputs": [
    {
     "data": {
      "text/plain": [
       "['Dr.',\n",
       " 'strange',\n",
       " 'loves',\n",
       " 'pav',\n",
       " 'bhaji',\n",
       " 'of',\n",
       " 'mumbai',\n",
       " '.',\n",
       " 'Hulk',\n",
       " 'loves',\n",
       " 'chaat',\n",
       " 'of',\n",
       " 'delhi']"
      ]
     },
     "execution_count": 87,
     "metadata": {},
     "output_type": "execute_result"
    }
   ],
   "source": [
    "from nltk.tokenize import word_tokenize\n",
    "word_tokenize('Dr. strange loves pav bhaji of mumbai. Hulk loves chaat of delhi')"
   ]
  },
  {
   "cell_type": "code",
   "execution_count": null,
   "id": "5cd942d0-0357-4a89-aee8-c0d665f64769",
   "metadata": {},
   "outputs": [],
   "source": []
  }
 ],
 "metadata": {
  "kernelspec": {
   "display_name": "Python 3 (ipykernel)",
   "language": "python",
   "name": "python3"
  },
  "language_info": {
   "codemirror_mode": {
    "name": "ipython",
    "version": 3
   },
   "file_extension": ".py",
   "mimetype": "text/x-python",
   "name": "python",
   "nbconvert_exporter": "python",
   "pygments_lexer": "ipython3",
   "version": "3.12.4"
  }
 },
 "nbformat": 4,
 "nbformat_minor": 5
}

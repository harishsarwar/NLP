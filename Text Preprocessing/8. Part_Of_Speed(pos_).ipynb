{
 "cells": [
  {
   "cell_type": "code",
   "execution_count": 35,
   "id": "613462fe-f077-4ae5-b705-17fef0c49a6b",
   "metadata": {},
   "outputs": [],
   "source": [
    "import spacy"
   ]
  },
  {
   "cell_type": "code",
   "execution_count": 37,
   "id": "21364e33-d8cf-4f37-82e6-bdba88a0d2e7",
   "metadata": {},
   "outputs": [],
   "source": [
    "nlp = spacy.load('en_core_web_sm')\n",
    "        # load spacy trained english model having pipe line components and which reads the enlish language and then tokenized than."
   ]
  },
  {
   "cell_type": "code",
   "execution_count": 38,
   "id": "57769150-a362-40c4-81b6-f62bbc192a74",
   "metadata": {},
   "outputs": [
    {
     "data": {
      "text/plain": [
       "['tok2vec', 'tagger', 'parser', 'attribute_ruler', 'lemmatizer', 'ner']"
      ]
     },
     "execution_count": 38,
     "metadata": {},
     "output_type": "execute_result"
    }
   ],
   "source": [
    "nlp.pipe_names\n",
    "# pipe line components."
   ]
  },
  {
   "cell_type": "code",
   "execution_count": 39,
   "id": "3b5084f9-950b-4cac-bd82-ec3d9b816421",
   "metadata": {},
   "outputs": [],
   "source": [
    "# here 'tagger' having component called post_ which shows the part of speed"
   ]
  },
  {
   "cell_type": "code",
   "execution_count": 44,
   "id": "96fcbe99-6562-40ff-9c52-5166d3ebe6b6",
   "metadata": {},
   "outputs": [
    {
     "name": "stdout",
     "output_type": "stream",
     "text": [
      "Elon  |  part_of_speed---> PROPN\n",
      "flew  |  part_of_speed---> VERB\n",
      "to  |  part_of_speed---> ADP\n",
      "mars  |  part_of_speed---> NOUN\n",
      "yesterday  |  part_of_speed---> NOUN\n",
      ".He  |  part_of_speed---> PROPN\n",
      "carried  |  part_of_speed---> VERB\n",
      "biyani  |  part_of_speed---> ADJ\n",
      "masala  |  part_of_speed---> NOUN\n",
      "with  |  part_of_speed---> ADP\n",
      "him  |  part_of_speed---> PRON\n"
     ]
    }
   ],
   "source": [
    "doc = nlp('Elon flew to mars yesterday .He carried biyani masala with him')\n",
    "\n",
    "for token in doc:\n",
    "    print(token, ' | ', 'part_of_speed--->', token.pos_)"
   ]
  },
  {
   "cell_type": "code",
   "execution_count": 49,
   "id": "dc5f1d76-c2af-408b-a29c-81687459c82b",
   "metadata": {},
   "outputs": [
    {
     "name": "stdout",
     "output_type": "stream",
     "text": [
      "wow  |  part_of_speed---> interjection  |  UH |  interjection\n",
      "!  |  part_of_speed---> punctuation  |  . |  punctuation mark, sentence closer\n",
      "Dr.  |  part_of_speed---> proper noun  |  NNP |  noun, proper singular\n",
      "strange  |  part_of_speed---> adjective  |  JJ |  adjective (English), other noun-modifier (Chinese)\n",
      "made  |  part_of_speed---> verb  |  VBD |  verb, past tense\n",
      "265  |  part_of_speed---> numeral  |  CD |  cardinal number\n",
      "million  |  part_of_speed---> numeral  |  CD |  cardinal number\n",
      "$  |  part_of_speed---> numeral  |  CD |  cardinal number\n",
      "on  |  part_of_speed---> adposition  |  IN |  conjunction, subordinating or preposition\n",
      "the  |  part_of_speed---> determiner  |  DT |  determiner\n",
      "vary  |  part_of_speed---> adjective  |  JJ |  adjective (English), other noun-modifier (Chinese)\n",
      "first  |  part_of_speed---> adjective  |  JJ |  adjective (English), other noun-modifier (Chinese)\n",
      "day  |  part_of_speed---> noun  |  NN |  noun, singular or mass\n"
     ]
    }
   ],
   "source": [
    "doc = nlp('wow ! Dr. strange made 265 million $ on the vary first day')\n",
    "\n",
    "for token in doc:\n",
    "    print(token,' | ', 'part_of_speed--->', spacy.explain(token.pos_),\n",
    "        ' | ', token.tag_, '| ', spacy.explain(token.tag_))"
   ]
  },
  {
   "cell_type": "markdown",
   "id": "0a73a005-6465-4c7e-abf0-62991906628c",
   "metadata": {},
   "source": [
    "# NLP Analysis"
   ]
  },
  {
   "cell_type": "code",
   "execution_count": 55,
   "id": "f6918a8b-a929-434b-966b-d393acd8c44c",
   "metadata": {},
   "outputs": [],
   "source": [
    "earnings_text=\"\"\"Microsoft Corp. today announced the following results for the quarter ended December 31, 2021, as compared to the corresponding period of last fiscal year:\n",
    "\n",
    "·         Revenue was $51.7 billion and increased 20%\n",
    "·         Operating income was $22.2 billion and increased 24%\n",
    "·         Net income was $18.8 billion and increased 21%\n",
    "·         Diluted earnings per share was $2.48 and increased 22%\n",
    "“Digital technology is the most malleable resource at the world’s disposal to overcome constraints and reimagine everyday work and life,” said Satya Nadella, chairman and chief executive officer of Microsoft. “As tech as a percentage of global GDP continues to increase, we are innovating and investing across diverse and growing markets, with a common underlying technology stack and an operating model that reinforces a common strategy, culture, and sense of purpose.”\n",
    "“Solid commercial execution, represented by strong bookings growth driven by long-term Azure commitments, increased Microsoft Cloud revenue to $22.1 billion, up 32% year over year” said Amy Hood, executive vice president and chief financial officer of Microsoft.\"\"\"\n"
   ]
  },
  {
   "cell_type": "code",
   "execution_count": 66,
   "id": "8828fdf3-0d88-4995-847c-f73382560e9f",
   "metadata": {},
   "outputs": [],
   "source": [
    "doc = nlp(earnings_text)\n",
    "\n",
    "filtered_tokens = []\n",
    "\n",
    "for token in doc:\n",
    "    if token.pos_ not in [\"SPACE\", \"PUNCT\", \"X\"]: # filters these token which are not helpfull for nlp takes\n",
    "        filtered_tokens.append(token)"
   ]
  },
  {
   "cell_type": "code",
   "execution_count": 65,
   "id": "4c9dd6fe-9e9a-4bba-83aa-c77ec6601f0f",
   "metadata": {},
   "outputs": [
    {
     "data": {
      "text/plain": [
       "[Microsoft,\n",
       " Corp.,\n",
       " today,\n",
       " announced,\n",
       " the,\n",
       " following,\n",
       " results,\n",
       " for,\n",
       " the,\n",
       " quarter,\n",
       " ended,\n",
       " December,\n",
       " 31,\n",
       " 2021,\n",
       " as,\n",
       " compared,\n",
       " to,\n",
       " the,\n",
       " corresponding,\n",
       " period,\n",
       " of,\n",
       " last,\n",
       " fiscal,\n",
       " year,\n",
       " Revenue,\n",
       " was,\n",
       " $,\n",
       " 51.7,\n",
       " billion,\n",
       " and,\n",
       " increased,\n",
       " 20,\n",
       " %,\n",
       " Operating,\n",
       " income,\n",
       " was,\n",
       " $,\n",
       " 22.2,\n",
       " billion,\n",
       " and,\n",
       " increased,\n",
       " 24,\n",
       " %,\n",
       " Net,\n",
       " income,\n",
       " was,\n",
       " $,\n",
       " 18.8,\n",
       " billion,\n",
       " and,\n",
       " increased,\n",
       " 21,\n",
       " %,\n",
       " Diluted,\n",
       " earnings,\n",
       " per,\n",
       " share,\n",
       " was,\n",
       " $,\n",
       " 2.48,\n",
       " and,\n",
       " increased,\n",
       " 22,\n",
       " %,\n",
       " Digital,\n",
       " technology,\n",
       " is,\n",
       " the,\n",
       " most,\n",
       " malleable,\n",
       " resource,\n",
       " at,\n",
       " the,\n",
       " world,\n",
       " ’s,\n",
       " disposal,\n",
       " to,\n",
       " overcome,\n",
       " constraints,\n",
       " and,\n",
       " reimagine,\n",
       " everyday,\n",
       " work,\n",
       " and,\n",
       " life,\n",
       " said,\n",
       " Satya,\n",
       " Nadella,\n",
       " chairman,\n",
       " and,\n",
       " chief,\n",
       " executive,\n",
       " officer,\n",
       " of,\n",
       " Microsoft,\n",
       " As,\n",
       " tech,\n",
       " as,\n",
       " a,\n",
       " percentage,\n",
       " of,\n",
       " global,\n",
       " GDP,\n",
       " continues,\n",
       " to,\n",
       " increase,\n",
       " we,\n",
       " are,\n",
       " innovating,\n",
       " and,\n",
       " investing,\n",
       " across,\n",
       " diverse,\n",
       " and,\n",
       " growing,\n",
       " markets,\n",
       " with,\n",
       " a,\n",
       " common,\n",
       " underlying,\n",
       " technology,\n",
       " stack,\n",
       " and,\n",
       " an,\n",
       " operating,\n",
       " model,\n",
       " that,\n",
       " reinforces,\n",
       " a,\n",
       " common,\n",
       " strategy,\n",
       " culture,\n",
       " and,\n",
       " sense,\n",
       " of,\n",
       " purpose,\n",
       " Solid,\n",
       " commercial,\n",
       " execution,\n",
       " represented,\n",
       " by,\n",
       " strong,\n",
       " bookings,\n",
       " growth,\n",
       " driven,\n",
       " by,\n",
       " long,\n",
       " term,\n",
       " Azure,\n",
       " commitments,\n",
       " increased,\n",
       " Microsoft,\n",
       " Cloud,\n",
       " revenue,\n",
       " to,\n",
       " $,\n",
       " 22.1,\n",
       " billion,\n",
       " up,\n",
       " 32,\n",
       " %,\n",
       " year,\n",
       " over,\n",
       " year,\n",
       " said,\n",
       " Amy,\n",
       " Hood,\n",
       " executive,\n",
       " vice,\n",
       " president,\n",
       " and,\n",
       " chief,\n",
       " financial,\n",
       " officer,\n",
       " of,\n",
       " Microsoft]"
      ]
     },
     "execution_count": 65,
     "metadata": {},
     "output_type": "execute_result"
    }
   ],
   "source": [
    "filtered_tokens"
   ]
  },
  {
   "cell_type": "code",
   "execution_count": 67,
   "id": "8ecbdfea-563c-472e-9433-5d4b8dae602a",
   "metadata": {},
   "outputs": [
    {
     "data": {
      "text/plain": [
       "{96: 13,\n",
       " 92: 46,\n",
       " 100: 24,\n",
       " 90: 9,\n",
       " 85: 16,\n",
       " 93: 16,\n",
       " 97: 27,\n",
       " 98: 1,\n",
       " 84: 20,\n",
       " 103: 10,\n",
       " 87: 6,\n",
       " 99: 5,\n",
       " 89: 12,\n",
       " 86: 3,\n",
       " 94: 3,\n",
       " 95: 2}"
      ]
     },
     "execution_count": 67,
     "metadata": {},
     "output_type": "execute_result"
    }
   ],
   "source": [
    "# extrecting how many verb are there in text.\n",
    "count = doc.count_by(spacy.attrs.POS)\n",
    "count"
   ]
  },
  {
   "cell_type": "code",
   "execution_count": 68,
   "id": "d5d65a25-8825-4521-8122-64d240c3f730",
   "metadata": {},
   "outputs": [
    {
     "data": {
      "text/plain": [
       "'PROPN'"
      ]
     },
     "execution_count": 68,
     "metadata": {},
     "output_type": "execute_result"
    }
   ],
   "source": [
    "doc.vocab[96].text"
   ]
  },
  {
   "cell_type": "code",
   "execution_count": 69,
   "id": "5f0fae4b-8332-416a-a75c-2b0d447908ba",
   "metadata": {},
   "outputs": [
    {
     "name": "stdout",
     "output_type": "stream",
     "text": [
      "PROPN | 13\n",
      "NOUN | 46\n",
      "VERB | 24\n",
      "DET | 9\n",
      "ADP | 16\n",
      "NUM | 16\n",
      "PUNCT | 27\n",
      "SCONJ | 1\n",
      "ADJ | 20\n",
      "SPACE | 10\n",
      "AUX | 6\n",
      "SYM | 5\n",
      "CCONJ | 12\n",
      "ADV | 3\n",
      "PART | 3\n",
      "PRON | 2\n"
     ]
    }
   ],
   "source": [
    "for k,v in count.items():\n",
    "    print(doc.vocab[k].text, \"|\",v)"
   ]
  },
  {
   "cell_type": "code",
   "execution_count": null,
   "id": "738c0bd4-afc1-45d8-a150-b5111f0fa51d",
   "metadata": {},
   "outputs": [],
   "source": []
  }
 ],
 "metadata": {
  "kernelspec": {
   "display_name": "Python 3 (ipykernel)",
   "language": "python",
   "name": "python3"
  },
  "language_info": {
   "codemirror_mode": {
    "name": "ipython",
    "version": 3
   },
   "file_extension": ".py",
   "mimetype": "text/x-python",
   "name": "python",
   "nbconvert_exporter": "python",
   "pygments_lexer": "ipython3",
   "version": "3.12.4"
  }
 },
 "nbformat": 4,
 "nbformat_minor": 5
}

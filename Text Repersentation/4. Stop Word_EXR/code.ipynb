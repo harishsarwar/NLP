{
 "cells": [
  {
   "cell_type": "code",
   "execution_count": 170,
   "id": "183e5413-7600-4f69-ab88-de0d488d0f3f",
   "metadata": {},
   "outputs": [],
   "source": [
    "import spacy\n",
    "nlp = spacy.load('en_core_web_sm')"
   ]
  },
  {
   "cell_type": "code",
   "execution_count": 171,
   "id": "95b0d82f-88d6-452e-b406-9b8885563d8b",
   "metadata": {},
   "outputs": [],
   "source": [
    "text = '''\n",
    "Thor: Love and Thunder is a 2022 American superhero film based on Marvel Comics featuring the character Thor, produced by Marvel Studios and \n",
    "distributed by Walt Disney Studios Motion Pictures. It is the sequel to Thor: Ragnarok (2017) and the 29th film in the Marvel Cinematic Universe (MCU).\n",
    "The film is directed by Taika Waititi, who co-wrote the script with Jennifer Kaytin Robinson, and stars Chris Hemsworth as Thor alongside Christian Bale, Tessa Thompson,\n",
    "Jaimie Alexander, Waititi, Russell Crowe, and Natalie Portman. In the film, Thor attempts to find inner peace, but must return to action and recruit Valkyrie (Thompson),\n",
    "Korg (Waititi), and Jane Foster (Portman)—who is now the Mighty Thor—to stop Gorr the God Butcher (Bale) from eliminating all gods.\n",
    "'''"
   ]
  },
  {
   "cell_type": "code",
   "execution_count": 172,
   "id": "d7a6dc99-51c4-4742-8ded-330fd734e211",
   "metadata": {},
   "outputs": [],
   "source": [
    "#step1: Create the object 'doc' for the given text using nlp()\n",
    "\n",
    "doc = nlp(text)"
   ]
  },
  {
   "cell_type": "code",
   "execution_count": 173,
   "id": "c84dfd80-6ab0-4469-ba08-70bb11dbc817",
   "metadata": {},
   "outputs": [],
   "source": [
    "from spacy.lang.en.stop_words import STOP_WORDS"
   ]
  },
  {
   "cell_type": "code",
   "execution_count": 174,
   "id": "82e9a9ad-54aa-44fc-8447-bdc395d90c4a",
   "metadata": {},
   "outputs": [],
   "source": [
    "#step2: define the variables to keep track of stopwords count and total words count\n",
    "stop_words_count = 0\n",
    "total_words_count = 0"
   ]
  },
  {
   "cell_type": "code",
   "execution_count": 181,
   "id": "ce2d455b-7b7c-4974-96c5-9a0aa0d89098",
   "metadata": {},
   "outputs": [],
   "source": [
    "#step3: iterate through all the words in the document\n",
    "\n",
    "for token in doc:\n",
    "    if token.is_stop:\n",
    "        stop_words_count +=1\n",
    "    total_words_count +=1"
   ]
  },
  {
   "cell_type": "code",
   "execution_count": 182,
   "id": "f96dc033-f15a-400b-a9ce-75be8f35ee83",
   "metadata": {},
   "outputs": [
    {
     "name": "stdout",
     "output_type": "stream",
     "text": [
      "80\n"
     ]
    }
   ],
   "source": [
    "#step4: print the count of stop words\n",
    "\n",
    "print(stop_words_count)"
   ]
  },
  {
   "cell_type": "raw",
   "id": "de550933-7894-4e49-bf59-af7b19d18e14",
   "metadata": {},
   "source": []
  },
  {
   "cell_type": "code",
   "execution_count": 183,
   "id": "2a6e4633-0ea0-46e0-b8be-22ec13e99239",
   "metadata": {},
   "outputs": [
    {
     "name": "stdout",
     "output_type": "stream",
     "text": [
      "200\n"
     ]
    }
   ],
   "source": [
    "print(total_words_count)"
   ]
  },
  {
   "cell_type": "code",
   "execution_count": 184,
   "id": "ff34d978-b702-4111-addd-e31240483576",
   "metadata": {},
   "outputs": [
    {
     "name": "stdout",
     "output_type": "stream",
     "text": [
      "40.0\n"
     ]
    }
   ],
   "source": [
    "#step5: print the percentage of stop words compared to total words in the text\n",
    "percentage_stop_words = (stop_words_count / total_words_count) * 100\n",
    "print(percentage_stop_words)"
   ]
  },
  {
   "cell_type": "markdown",
   "id": "ad945e3f-0e31-4df9-9799-e74afce7e6ac",
   "metadata": {},
   "source": [
    "# Exercise2:"
   ]
  },
  {
   "cell_type": "code",
   "execution_count": 186,
   "id": "33ba5695-4421-48f3-9421-33a16a23a66d",
   "metadata": {},
   "outputs": [],
   "source": [
    "#use this pre-processing function to pass the text and to remove all the stop words and finally get the cleaned form\n",
    "def preprocess(text):\n",
    "    doc = nlp(text)\n",
    "    no_stop_words = [token.text for token in doc if not token.is_stop]\n",
    "    return '  '.join(no_stop_words)\n",
    "    "
   ]
  },
  {
   "cell_type": "code",
   "execution_count": 187,
   "id": "ebc884e7-e519-4d6b-98f7-37a18f4104bd",
   "metadata": {},
   "outputs": [
    {
     "data": {
      "text/plain": [
       "'\\n  Thor  :  Love  Thunder  2022  American  superhero  film  based  Marvel  Comics  featuring  character  Thor  ,  produced  Marvel  Studios  \\n  distributed  Walt  Disney  Studios  Motion  Pictures  .  sequel  Thor  :  Ragnarok  (  2017  )  29th  film  Marvel  Cinematic  Universe  (  MCU  )  .  \\n  film  directed  Taika  Waititi  ,  co  -  wrote  script  Jennifer  Kaytin  Robinson  ,  stars  Chris  Hemsworth  Thor  alongside  Christian  Bale  ,  Tessa  Thompson  ,  \\n  Jaimie  Alexander  ,  Waititi  ,  Russell  Crowe  ,  Natalie  Portman  .  film  ,  Thor  attempts  find  inner  peace  ,  return  action  recruit  Valkyrie  (  Thompson  )  ,  \\n  Korg  (  Waititi  )  ,  Jane  Foster  (  Portman)—who  Mighty  Thor  —  stop  Gorr  God  Butcher  (  Bale  )  eliminating  gods  .  \\n'"
      ]
     },
     "execution_count": 187,
     "metadata": {},
     "output_type": "execute_result"
    }
   ],
   "source": [
    "preprocess(text)"
   ]
  },
  {
   "cell_type": "code",
   "execution_count": 192,
   "id": "e5a07ab5-54bb-483c-99b1-d29f11d526be",
   "metadata": {},
   "outputs": [],
   "source": [
    "#Step1: remove the stopword 'not' in spacy\n",
    "nlp.vocab['not'].is_stop = False"
   ]
  },
  {
   "cell_type": "code",
   "execution_count": 193,
   "id": "71d667d2-d6c7-41be-86c0-3b6c46a2df50",
   "metadata": {},
   "outputs": [],
   "source": [
    "#step2: send the two texts given above into the pre-process function and store the transformed texts\n",
    "positive_text = preprocess('this is a good movie')\n",
    "negative_text = preprocess('this is not a good movie')\n"
   ]
  },
  {
   "cell_type": "code",
   "execution_count": 194,
   "id": "40fb3878-6c08-4397-9a8b-97b47ff77d8e",
   "metadata": {},
   "outputs": [
    {
     "name": "stdout",
     "output_type": "stream",
     "text": [
      "Text1: good  movie\n",
      "Text2: not  good  movie\n"
     ]
    }
   ],
   "source": [
    "#step3: finally print those 2 transformed texts\n",
    "print(f\"Text1: {positive_text}\")\n",
    "print(f\"Text2: {negative_text}\")"
   ]
  },
  {
   "cell_type": "code",
   "execution_count": 200,
   "id": "572b46b9-776f-4c38-914e-cc217b274f75",
   "metadata": {},
   "outputs": [],
   "source": [
    "\n",
    "text = ''' The India men's national cricket team, also known as Team India or the Men in Blue, represents India in men's international cricket.\n",
    "It is governed by the Board of Control for Cricket in India (BCCI), and is a Full Member of the International Cricket Council (ICC) with Test,\n",
    "One Day International (ODI) and Twenty20 International (T20I) status. Cricket was introduced to India by British sailors in the 18th century, and the \n",
    "first cricket club was established in 1792. India's national cricket team played its first Test match on 25 June 1932 at Lord's, becoming the sixth team to be\n",
    "granted test cricket status.\n",
    "'''"
   ]
  },
  {
   "cell_type": "code",
   "execution_count": 201,
   "id": "3a4aef6c-47a0-41fb-9bd9-47eb9dddbf01",
   "metadata": {},
   "outputs": [],
   "source": [
    "#step1: Create the object 'doc' for the given text using nlp()\n",
    "doc = nlp(text)"
   ]
  },
  {
   "cell_type": "code",
   "execution_count": 202,
   "id": "d1bfc573-fb48-492a-b097-5a16f5fa834c",
   "metadata": {},
   "outputs": [],
   "source": [
    "#step2: remove all the stop words and punctuations and store all the remaining tokens in a new list\n",
    "remaining_tokens = []\n",
    "for token in doc:\n",
    "  if token.is_stop or token.is_punct:    #check whether a given token is stop word or punctuations\n",
    "    continue\n",
    "  remaining_tokens.append(token.text)"
   ]
  },
  {
   "cell_type": "code",
   "execution_count": 203,
   "id": "0b4beffe-9d0d-4547-81c6-f177098199a1",
   "metadata": {},
   "outputs": [],
   "source": [
    "#step3: create a new dictionary and get the frequency of words by iterating through the list which contains stored tokens  \n",
    "frequency_tokens = {}\n",
    "for token in remaining_tokens:\n",
    "  if token != '\\n' and token != ' ':      #As spacy considers new line and empty spaces as seperate token, it's better to ignore them\n",
    "    if token not in frequency_tokens:     #if a particular token occurs for the first time, we initialise it to 1\n",
    "      frequency_tokens[token] = 1\n",
    "    else:\n",
    "      frequency_tokens[token] += 1 "
   ]
  },
  {
   "cell_type": "code",
   "execution_count": 204,
   "id": "06245d24-8010-45a5-8126-e92076e5786c",
   "metadata": {},
   "outputs": [],
   "source": [
    "#step4: get the maximum frequency word\n",
    "max_freq_word = max(frequency_tokens.keys(), key=(lambda key: frequency_tokens[key]))\n"
   ]
  },
  {
   "cell_type": "code",
   "execution_count": 205,
   "id": "8777192e-5776-4f8a-b31c-a138c01789d8",
   "metadata": {},
   "outputs": [
    {
     "name": "stdout",
     "output_type": "stream",
     "text": [
      "Maximum frequency word: India\n"
     ]
    }
   ],
   "source": [
    "#step5: finally print the result\n",
    "print(f\"Maximum frequency word: {max_freq_word}\") "
   ]
  },
  {
   "cell_type": "code",
   "execution_count": null,
   "id": "989e09e6-fe9e-4581-84aa-d2c8fcced44a",
   "metadata": {},
   "outputs": [],
   "source": []
  }
 ],
 "metadata": {
  "kernelspec": {
   "display_name": "Python 3 (ipykernel)",
   "language": "python",
   "name": "python3"
  },
  "language_info": {
   "codemirror_mode": {
    "name": "ipython",
    "version": 3
   },
   "file_extension": ".py",
   "mimetype": "text/x-python",
   "name": "python",
   "nbconvert_exporter": "python",
   "pygments_lexer": "ipython3",
   "version": "3.12.4"
  }
 },
 "nbformat": 4,
 "nbformat_minor": 5
}

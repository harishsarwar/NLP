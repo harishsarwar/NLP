{
 "cells": [
  {
   "cell_type": "code",
   "execution_count": 1,
   "id": "0da244ab-1413-4076-a376-9896e46fdf03",
   "metadata": {},
   "outputs": [
    {
     "name": "stdout",
     "output_type": "stream",
     "text": [
      "[=========================-------------------------] 50.1% 832.3/1662.8MB downloaded"
     ]
    },
    {
     "name": "stderr",
     "output_type": "stream",
     "text": [
      "IOPub message rate exceeded.\n",
      "The Jupyter server will temporarily stop sending output\n",
      "to the client in order to avoid crashing it.\n",
      "To change this limit, set the config variable\n",
      "`--ServerApp.iopub_msg_rate_limit`.\n",
      "\n",
      "Current values:\n",
      "ServerApp.iopub_msg_rate_limit=1000.0 (msgs/sec)\n",
      "ServerApp.rate_limit_window=3.0 (secs)\n",
      "\n"
     ]
    },
    {
     "name": "stdout",
     "output_type": "stream",
     "text": [
      "[==========================------------------------] 53.3% 886.3/1662.8MB downloaded"
     ]
    },
    {
     "name": "stderr",
     "output_type": "stream",
     "text": [
      "IOPub message rate exceeded.\n",
      "The Jupyter server will temporarily stop sending output\n",
      "to the client in order to avoid crashing it.\n",
      "To change this limit, set the config variable\n",
      "`--ServerApp.iopub_msg_rate_limit`.\n",
      "\n",
      "Current values:\n",
      "ServerApp.iopub_msg_rate_limit=1000.0 (msgs/sec)\n",
      "ServerApp.rate_limit_window=3.0 (secs)\n",
      "\n"
     ]
    },
    {
     "name": "stdout",
     "output_type": "stream",
     "text": [
      "[========================================----------] 81.6% 1357.0/1662.8MB downloaded"
     ]
    },
    {
     "name": "stderr",
     "output_type": "stream",
     "text": [
      "IOPub message rate exceeded.\n",
      "The Jupyter server will temporarily stop sending output\n",
      "to the client in order to avoid crashing it.\n",
      "To change this limit, set the config variable\n",
      "`--ServerApp.iopub_msg_rate_limit`.\n",
      "\n",
      "Current values:\n",
      "ServerApp.iopub_msg_rate_limit=1000.0 (msgs/sec)\n",
      "ServerApp.rate_limit_window=3.0 (secs)\n",
      "\n"
     ]
    },
    {
     "name": "stdout",
     "output_type": "stream",
     "text": [
      "[=============================================-----] 91.8% 1526.4/1662.8MB downloaded"
     ]
    },
    {
     "name": "stderr",
     "output_type": "stream",
     "text": [
      "IOPub message rate exceeded.\n",
      "The Jupyter server will temporarily stop sending output\n",
      "to the client in order to avoid crashing it.\n",
      "To change this limit, set the config variable\n",
      "`--ServerApp.iopub_msg_rate_limit`.\n",
      "\n",
      "Current values:\n",
      "ServerApp.iopub_msg_rate_limit=1000.0 (msgs/sec)\n",
      "ServerApp.rate_limit_window=3.0 (secs)\n",
      "\n"
     ]
    },
    {
     "name": "stdout",
     "output_type": "stream",
     "text": [
      "[==================================================] 100.0% 1662.8/1662.8MB downloaded\n"
     ]
    }
   ],
   "source": [
    "import gensim.downloader as api\n",
    "# This is a huge model (~1.6 gb) and it will take some time to load\n",
    "\n",
    "wv = api.load('word2vec-google-news-300')\n",
    "# wv = word-vec               # train model called google news from gensim\n",
    "                # google-news is data set for word2vec approach."
   ]
  },
  {
   "cell_type": "code",
   "execution_count": 6,
   "id": "fd121c3d-3f04-482a-8afb-2a2f9c1dfab0",
   "metadata": {},
   "outputs": [
    {
     "data": {
      "text/plain": [
       "0.72915095"
      ]
     },
     "execution_count": 6,
     "metadata": {},
     "output_type": "execute_result"
    }
   ],
   "source": [
    "# checking similarity directely.\n",
    "\n",
    "wv.similarity(w1 = 'great', w2 = 'good')"
   ]
  },
  {
   "cell_type": "code",
   "execution_count": 7,
   "id": "b71deed8-4ef5-42a6-9ab9-8a72c14ef8e0",
   "metadata": {},
   "outputs": [
    {
     "data": {
      "text/plain": [
       "0.34199455"
      ]
     },
     "execution_count": 7,
     "metadata": {},
     "output_type": "execute_result"
    }
   ],
   "source": [
    "wv.similarity(w1 = 'profit', w2 = 'loss')"
   ]
  },
  {
   "cell_type": "code",
   "execution_count": 8,
   "id": "b8ccc1ee-96f8-4162-9a33-6167c290e50a",
   "metadata": {},
   "outputs": [
    {
     "data": {
      "text/plain": [
       "[('great', 0.7291509509086609),\n",
       " ('bad', 0.7190050482749939),\n",
       " ('terrific', 0.688911497592926),\n",
       " ('decent', 0.6837348937988281),\n",
       " ('nice', 0.6836092472076416),\n",
       " ('excellent', 0.6442928910255432),\n",
       " ('fantastic', 0.6407778263092041),\n",
       " ('better', 0.6120728850364685),\n",
       " ('solid', 0.5806034803390503),\n",
       " ('lousy', 0.576420247554779)]"
      ]
     },
     "execution_count": 8,
     "metadata": {},
     "output_type": "execute_result"
    }
   ],
   "source": [
    "wv.most_similar('good')"
   ]
  },
  {
   "cell_type": "code",
   "execution_count": 9,
   "id": "721dc2b4-79b1-4d5f-9bfa-67d21cea3bd6",
   "metadata": {},
   "outputs": [
    {
     "data": {
      "text/plain": [
       "[('cats', 0.8099380135536194),\n",
       " ('dog', 0.760945737361908),\n",
       " ('kitten', 0.7464985847473145),\n",
       " ('feline', 0.7326234579086304),\n",
       " ('beagle', 0.7150583267211914),\n",
       " ('puppy', 0.7075453400611877),\n",
       " ('pup', 0.6934290528297424),\n",
       " ('pet', 0.6891531348228455),\n",
       " ('felines', 0.6755931973457336),\n",
       " ('chihuahua', 0.6709762215614319)]"
      ]
     },
     "execution_count": 9,
     "metadata": {},
     "output_type": "execute_result"
    }
   ],
   "source": [
    "wv.most_similar('cat')"
   ]
  },
  {
   "cell_type": "code",
   "execution_count": 13,
   "id": "07564945-1cbf-4e1e-a7ac-b1e135862453",
   "metadata": {},
   "outputs": [
    {
     "ename": "SyntaxError",
     "evalue": "cannot assign to expression here. Maybe you meant '==' instead of '='? (1448442505.py, line 1)",
     "output_type": "error",
     "traceback": [
      "\u001b[1;36m  File \u001b[1;32m\"C:\\Users\\mdhar_hxm\\AppData\\Local\\Temp\\ipykernel_16248\\1448442505.py\"\u001b[1;36m, line \u001b[1;32m1\u001b[0m\n\u001b[1;33m    King-Women + man =  Queen\u001b[0m\n\u001b[1;37m    ^\u001b[0m\n\u001b[1;31mSyntaxError\u001b[0m\u001b[1;31m:\u001b[0m cannot assign to expression here. Maybe you meant '==' instead of '='?\n"
     ]
    }
   ],
   "source": [
    "King-Women + man =  Queen\n",
    "\n",
    "France - Paris + Berlin  = Germany\n",
    "\n"
   ]
  },
  {
   "cell_type": "code",
   "execution_count": 14,
   "id": "29df4d57-acf1-4253-894a-19c6930095ba",
   "metadata": {},
   "outputs": [
    {
     "data": {
      "text/plain": [
       "[('Germany', 0.7901255488395691),\n",
       " ('Austria', 0.6026812791824341),\n",
       " ('German', 0.6004959940910339),\n",
       " ('Germans', 0.5851002931594849),\n",
       " ('Poland', 0.5847075581550598),\n",
       " ('Hungary', 0.5271856188774109),\n",
       " ('BBC_Tristana_Moore', 0.5249711871147156),\n",
       " ('symbol_RSTI', 0.5245768427848816),\n",
       " ('Belgium', 0.5221248269081116),\n",
       " ('Germnay', 0.5199406147003174)]"
      ]
     },
     "execution_count": 14,
     "metadata": {},
     "output_type": "execute_result"
    }
   ],
   "source": [
    "wv.most_similar(positive=['France','Berlin'], negative=['Paris'])"
   ]
  },
  {
   "cell_type": "code",
   "execution_count": 15,
   "id": "f58074a8-220b-45f6-b4a8-7bcc8337162d",
   "metadata": {},
   "outputs": [
    {
     "data": {
      "text/plain": [
       "[('Queen', 0.4610101878643036),\n",
       " ('Prince', 0.41182762384414673),\n",
       " ('L._Bonauto', 0.40108203887939453),\n",
       " ('JL_Chestnut', 0.40094664692878723),\n",
       " ('Jackson', 0.3993755877017975),\n",
       " ('prosecutor_Dan_Satterberg', 0.3966131806373596),\n",
       " ('Alveda_C.', 0.3962492346763611),\n",
       " ('Clark', 0.3927658796310425),\n",
       " ('Sarah_Adebisi_Sosan', 0.3924759328365326),\n",
       " ('I._Height', 0.39033517241477966)]"
      ]
     },
     "execution_count": 15,
     "metadata": {},
     "output_type": "execute_result"
    }
   ],
   "source": [
    "wv.most_similar(positive=['King','Women'], negative=['Men'])"
   ]
  },
  {
   "cell_type": "code",
   "execution_count": 17,
   "id": "0e798e58-78bc-4b24-b525-ca1755809da6",
   "metadata": {},
   "outputs": [
    {
     "data": {
      "text/plain": [
       "'cat'"
      ]
     },
     "execution_count": 17,
     "metadata": {},
     "output_type": "execute_result"
    }
   ],
   "source": [
    "# match word.\n",
    "wv.doesnt_match(['google','cat','microsoft','wipro','twitter'])"
   ]
  },
  {
   "cell_type": "code",
   "execution_count": 18,
   "id": "b2b3982c-183f-4985-b371-341e3a86c6e4",
   "metadata": {},
   "outputs": [
    {
     "name": "stdout",
     "output_type": "stream",
     "text": [
      "[==================================================] 100.0% 104.8/104.8MB downloaded\n"
     ]
    }
   ],
   "source": [
    "# download twitter model from gensim data..\n",
    "\n",
    "glv = api.load('glove-twitter-25')\n",
    "# glove is a algo(technique for embeddings like word2vec)"
   ]
  },
  {
   "cell_type": "code",
   "execution_count": 19,
   "id": "ebec154d-148c-4f59-ad29-1d996df4fc89",
   "metadata": {},
   "outputs": [],
   "source": [
    "# glove is another technique for converting word into vector."
   ]
  },
  {
   "cell_type": "code",
   "execution_count": 20,
   "id": "5bee59ea-7bdc-450e-bcbb-4ae94f0aecdf",
   "metadata": {},
   "outputs": [
    {
     "data": {
      "text/plain": [
       "[('too', 0.964801549911499),\n",
       " ('day', 0.9533664584159851),\n",
       " ('well', 0.9503172636032104),\n",
       " ('nice', 0.9438971877098083),\n",
       " ('better', 0.9425961971282959),\n",
       " ('fun', 0.941892683506012),\n",
       " ('much', 0.9413354992866516),\n",
       " ('this', 0.9387555122375488),\n",
       " ('hope', 0.9383507966995239),\n",
       " ('great', 0.9378517270088196)]"
      ]
     },
     "execution_count": 20,
     "metadata": {},
     "output_type": "execute_result"
    }
   ],
   "source": [
    "glv.most_similar('good')"
   ]
  },
  {
   "cell_type": "code",
   "execution_count": 22,
   "id": "5aa25f05-6023-451f-823d-7193c36f0511",
   "metadata": {},
   "outputs": [
    {
     "data": {
      "text/plain": [
       "'human'"
      ]
     },
     "execution_count": 22,
     "metadata": {},
     "output_type": "execute_result"
    }
   ],
   "source": [
    "glv.doesnt_match('banana apple human grapes'. split())"
   ]
  },
  {
   "cell_type": "code",
   "execution_count": null,
   "id": "53df0ba7-203d-4742-b81b-7fb9dee41d39",
   "metadata": {},
   "outputs": [],
   "source": []
  }
 ],
 "metadata": {
  "kernelspec": {
   "display_name": "Python 3 (ipykernel)",
   "language": "python",
   "name": "python3"
  },
  "language_info": {
   "codemirror_mode": {
    "name": "ipython",
    "version": 3
   },
   "file_extension": ".py",
   "mimetype": "text/x-python",
   "name": "python",
   "nbconvert_exporter": "python",
   "pygments_lexer": "ipython3",
   "version": "3.12.4"
  }
 },
 "nbformat": 4,
 "nbformat_minor": 5
}

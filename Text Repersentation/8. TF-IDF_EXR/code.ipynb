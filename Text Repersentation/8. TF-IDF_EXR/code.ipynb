{
 "cells": [
  {
   "cell_type": "code",
   "execution_count": 86,
   "id": "45a5d8a5-9fb3-42ba-8c22-2b12deac3213",
   "metadata": {},
   "outputs": [
    {
     "name": "stdout",
     "output_type": "stream",
     "text": [
      "(5937, 2)\n"
     ]
    },
    {
     "data": {
      "text/html": [
       "<div>\n",
       "<style scoped>\n",
       "    .dataframe tbody tr th:only-of-type {\n",
       "        vertical-align: middle;\n",
       "    }\n",
       "\n",
       "    .dataframe tbody tr th {\n",
       "        vertical-align: top;\n",
       "    }\n",
       "\n",
       "    .dataframe thead th {\n",
       "        text-align: right;\n",
       "    }\n",
       "</style>\n",
       "<table border=\"1\" class=\"dataframe\">\n",
       "  <thead>\n",
       "    <tr style=\"text-align: right;\">\n",
       "      <th></th>\n",
       "      <th>Comment</th>\n",
       "      <th>Emotion</th>\n",
       "    </tr>\n",
       "  </thead>\n",
       "  <tbody>\n",
       "    <tr>\n",
       "      <th>0</th>\n",
       "      <td>i seriously hate one subject to death but now ...</td>\n",
       "      <td>fear</td>\n",
       "    </tr>\n",
       "    <tr>\n",
       "      <th>1</th>\n",
       "      <td>im so full of life i feel appalled</td>\n",
       "      <td>anger</td>\n",
       "    </tr>\n",
       "    <tr>\n",
       "      <th>2</th>\n",
       "      <td>i sit here to write i start to dig out my feel...</td>\n",
       "      <td>fear</td>\n",
       "    </tr>\n",
       "    <tr>\n",
       "      <th>3</th>\n",
       "      <td>ive been really angry with r and i feel like a...</td>\n",
       "      <td>joy</td>\n",
       "    </tr>\n",
       "    <tr>\n",
       "      <th>4</th>\n",
       "      <td>i feel suspicious if there is no one outside l...</td>\n",
       "      <td>fear</td>\n",
       "    </tr>\n",
       "  </tbody>\n",
       "</table>\n",
       "</div>"
      ],
      "text/plain": [
       "                                             Comment Emotion\n",
       "0  i seriously hate one subject to death but now ...    fear\n",
       "1                 im so full of life i feel appalled   anger\n",
       "2  i sit here to write i start to dig out my feel...    fear\n",
       "3  ive been really angry with r and i feel like a...     joy\n",
       "4  i feel suspicious if there is no one outside l...    fear"
      ]
     },
     "execution_count": 86,
     "metadata": {},
     "output_type": "execute_result"
    }
   ],
   "source": [
    "#import pandas library\n",
    "import pandas as pd\n",
    "\n",
    "#read the dataset with name \"Emotion_classify_Data.csv\" and store it in a variable df\n",
    "\n",
    "df =  pd.read_csv('Emotion_classify_Data.csv')\n",
    "#print the shape of dataframe\n",
    "print(df.shape)\n",
    "\n",
    "#print top 5 rows\n",
    "df.head()"
   ]
  },
  {
   "cell_type": "markdown",
   "id": "7e8ba50d-3e7e-4e68-b59c-2bfb69ea2e83",
   "metadata": {},
   "source": [
    "# imbalanced data handling using under sampling"
   ]
  },
  {
   "cell_type": "code",
   "execution_count": 87,
   "id": "420f0374-8ee9-45c2-801d-694c8c97c3fb",
   "metadata": {},
   "outputs": [
    {
     "data": {
      "text/plain": [
       "Emotion\n",
       "anger    2000\n",
       "joy      2000\n",
       "fear     1937\n",
       "Name: count, dtype: int64"
      ]
     },
     "execution_count": 87,
     "metadata": {},
     "output_type": "execute_result"
    }
   ],
   "source": [
    "#check the distribution of Emotion\n",
    "df.Emotion.value_counts()"
   ]
  },
  {
   "cell_type": "code",
   "execution_count": 88,
   "id": "aa88a3c4-ee32-428e-892f-aabecc3224c1",
   "metadata": {},
   "outputs": [],
   "source": [
    "min_value = 1937\n",
    "df_anger = df[df['Emotion'] == 'anger'].sample(min_value)\n",
    "df_joy = df[df['Emotion'] == 'joy'].sample(min_value)\n",
    "df_fear = df[df['Emotion'] == 'fear'].sample(min_value)"
   ]
  },
  {
   "cell_type": "code",
   "execution_count": 89,
   "id": "9de2ee38-1af2-48df-b0a3-35ef6360cf31",
   "metadata": {},
   "outputs": [],
   "source": [
    "df = pd.concat([df_anger,df_joy,df_fear], axis=0)"
   ]
  },
  {
   "cell_type": "code",
   "execution_count": 90,
   "id": "687568c1-f1ac-42ba-82f7-c151e06bd46f",
   "metadata": {},
   "outputs": [
    {
     "data": {
      "text/plain": [
       "Emotion\n",
       "anger    1937\n",
       "joy      1937\n",
       "fear     1937\n",
       "Name: count, dtype: int64"
      ]
     },
     "execution_count": 90,
     "metadata": {},
     "output_type": "execute_result"
    }
   ],
   "source": [
    "df.Emotion.value_counts()"
   ]
  },
  {
   "cell_type": "code",
   "execution_count": 91,
   "id": "46348e62-4d1a-4457-afd9-8e2dd32b65ea",
   "metadata": {},
   "outputs": [
    {
     "data": {
      "text/html": [
       "<div>\n",
       "<style scoped>\n",
       "    .dataframe tbody tr th:only-of-type {\n",
       "        vertical-align: middle;\n",
       "    }\n",
       "\n",
       "    .dataframe tbody tr th {\n",
       "        vertical-align: top;\n",
       "    }\n",
       "\n",
       "    .dataframe thead th {\n",
       "        text-align: right;\n",
       "    }\n",
       "</style>\n",
       "<table border=\"1\" class=\"dataframe\">\n",
       "  <thead>\n",
       "    <tr style=\"text-align: right;\">\n",
       "      <th></th>\n",
       "      <th>Comment</th>\n",
       "      <th>Emotion</th>\n",
       "      <th>Emotion_num</th>\n",
       "    </tr>\n",
       "  </thead>\n",
       "  <tbody>\n",
       "    <tr>\n",
       "      <th>2360</th>\n",
       "      <td>i know i shouldn t feel offended but i do</td>\n",
       "      <td>anger</td>\n",
       "      <td>0</td>\n",
       "    </tr>\n",
       "    <tr>\n",
       "      <th>1594</th>\n",
       "      <td>i feel very dissatisfied with myself</td>\n",
       "      <td>anger</td>\n",
       "      <td>0</td>\n",
       "    </tr>\n",
       "    <tr>\n",
       "      <th>2822</th>\n",
       "      <td>i am feeling that bitter sweetness that comes ...</td>\n",
       "      <td>anger</td>\n",
       "      <td>0</td>\n",
       "    </tr>\n",
       "    <tr>\n",
       "      <th>1859</th>\n",
       "      <td>i mustered up energy to feel christmassy i rem...</td>\n",
       "      <td>anger</td>\n",
       "      <td>0</td>\n",
       "    </tr>\n",
       "    <tr>\n",
       "      <th>3588</th>\n",
       "      <td>i am feeling spiteful</td>\n",
       "      <td>anger</td>\n",
       "      <td>0</td>\n",
       "    </tr>\n",
       "  </tbody>\n",
       "</table>\n",
       "</div>"
      ],
      "text/plain": [
       "                                                Comment Emotion  Emotion_num\n",
       "2360          i know i shouldn t feel offended but i do   anger            0\n",
       "1594               i feel very dissatisfied with myself   anger            0\n",
       "2822  i am feeling that bitter sweetness that comes ...   anger            0\n",
       "1859  i mustered up energy to feel christmassy i rem...   anger            0\n",
       "3588                              i am feeling spiteful   anger            0"
      ]
     },
     "execution_count": 91,
     "metadata": {},
     "output_type": "execute_result"
    }
   ],
   "source": [
    "#Add the new column \"Emotion_num\" which gives a unique number to each of these Emotions\n",
    "#joy --> 0, fear --> 1, anger --> 2\n",
    "df['Emotion_num'] = df.Emotion.map({\n",
    "    'anger':0,\n",
    "    'joy':1,\n",
    "    'fear':2,\n",
    "    \n",
    "})\n",
    "\n",
    "#checking the results by printing top 5 rows\n",
    "df.head(5)"
   ]
  },
  {
   "cell_type": "code",
   "execution_count": 92,
   "id": "5b90bb53-dde5-49d5-ade5-f982d97c12e6",
   "metadata": {},
   "outputs": [
    {
     "data": {
      "text/plain": [
       "Emotion_num\n",
       "0    1937\n",
       "1    1937\n",
       "2    1937\n",
       "Name: count, dtype: int64"
      ]
     },
     "execution_count": 92,
     "metadata": {},
     "output_type": "execute_result"
    }
   ],
   "source": [
    "df.Emotion_num.value_counts()"
   ]
  },
  {
   "cell_type": "markdown",
   "id": "9544a109-3378-47a1-b864-cbe997b4c45c",
   "metadata": {},
   "source": [
    "# modeling without preprocessing text data."
   ]
  },
  {
   "cell_type": "code",
   "execution_count": 93,
   "id": "4111f29f-e337-4c78-ad08-e4406ab3f55e",
   "metadata": {},
   "outputs": [],
   "source": [
    "\n",
    "#import train-test split\n",
    "\n",
    "from sklearn.model_selection import train_test_split\n",
    "\n",
    "\n",
    "#Do the 'train-test' splitting with test size of 20%\n",
    "#Note: Give Random state 2022 and also do the stratify sampling"
   ]
  },
  {
   "cell_type": "code",
   "execution_count": 101,
   "id": "1f489b19-4774-4ea5-ac70-ee2f3edf12a6",
   "metadata": {},
   "outputs": [],
   "source": [
    "X = df.Comment\n",
    "y = df.Emotion_num\n",
    "X_train, X_test, y_train, y_test = train_test_split(X, y, test_size=0.2, random_state=2022)"
   ]
  },
  {
   "cell_type": "code",
   "execution_count": 102,
   "id": "05c19574-4f46-4423-a6e8-74771cfe98a2",
   "metadata": {},
   "outputs": [
    {
     "data": {
      "text/plain": [
       "((4648,), (1163,))"
      ]
     },
     "execution_count": 102,
     "metadata": {},
     "output_type": "execute_result"
    }
   ],
   "source": [
    "#print the shapes of X_train and X_test\n",
    "X_train.shape, X_test.shape"
   ]
  },
  {
   "cell_type": "markdown",
   "id": "a4c814a8-b64f-4ed7-a7b1-fc53c185ba06",
   "metadata": {},
   "source": [
    "# Attempt 1:\n",
    "using the sklearn pipeline module create a classification pipeline to classify the Data."
   ]
  },
  {
   "cell_type": "markdown",
   "id": "5e4afd5d-b28e-4e43-ba7c-3bbb3fd06f41",
   "metadata": {},
   "source": [
    "# note: \n",
    "\n",
    "using CountVectorizer with only trigrams.\r\n",
    "\n",
    "use RandomForest as the classifier.\n",
    "\r\n",
    "print the classification report."
   ]
  },
  {
   "cell_type": "code",
   "execution_count": 105,
   "id": "420bdf98-9463-4704-85e0-cfce66f6512e",
   "metadata": {},
   "outputs": [
    {
     "name": "stdout",
     "output_type": "stream",
     "text": [
      "              precision    recall  f1-score   support\n",
      "\n",
      "           0       0.43      0.78      0.56       407\n",
      "           1       0.53      0.28      0.36       368\n",
      "           2       0.64      0.38      0.48       388\n",
      "\n",
      "    accuracy                           0.49      1163\n",
      "   macro avg       0.53      0.48      0.47      1163\n",
      "weighted avg       0.53      0.49      0.47      1163\n",
      "\n"
     ]
    }
   ],
   "source": [
    "#1. create a pipeline object\n",
    "\n",
    "from sklearn.feature_extraction.text import CountVectorizer\n",
    "from sklearn.ensemble import RandomForestClassifier\n",
    "from sklearn.pipeline import Pipeline\n",
    "from sklearn.metrics import classification_report\n",
    "\n",
    "clf = Pipeline([\n",
    "    ('vectorizer_tri_grams', CountVectorizer(ngram_range = (3, 3))),                       #using the ngram_range parameter \n",
    "    ('random_forest', (RandomForestClassifier()))         \n",
    "])\n",
    "\n",
    "#2. fit with X_train and y_train\n",
    "clf.fit(X_train, y_train)\n",
    "\n",
    "\n",
    "#3. get the predictions for X_test and store it in y_pred\n",
    "y_pred = clf.predict(X_test)\n",
    "\n",
    "\n",
    "#4. print the classfication report\n",
    "print(classification_report(y_test, y_pred))"
   ]
  },
  {
   "cell_type": "markdown",
   "id": "89165e3f-3f69-42d7-9806-51df4bf3db4f",
   "metadata": {},
   "source": [
    "# Attempt 2:\n",
    "using the sklearn pipeline module create a classification pipeline to classify the data."
   ]
  },
  {
   "cell_type": "markdown",
   "id": "b8ac86a7-1ea7-41e6-b776-403a6f2cdde8",
   "metadata": {},
   "source": [
    "# note:\n",
    "using CountVectorizer with both unigram and bigrams.\r\n",
    "\n",
    "use Multinomial Naive Bayes as the classifier.\n",
    "\r\n",
    "print the classification report."
   ]
  },
  {
   "cell_type": "code",
   "execution_count": 107,
   "id": "b419ca5f-ec0a-41a5-8635-9bb58bcce8d0",
   "metadata": {},
   "outputs": [
    {
     "name": "stdout",
     "output_type": "stream",
     "text": [
      "              precision    recall  f1-score   support\n",
      "\n",
      "           0       0.90      0.86      0.88       407\n",
      "           1       0.87      0.85      0.86       368\n",
      "           2       0.84      0.88      0.86       388\n",
      "\n",
      "    accuracy                           0.87      1163\n",
      "   macro avg       0.87      0.87      0.87      1163\n",
      "weighted avg       0.87      0.87      0.87      1163\n",
      "\n"
     ]
    }
   ],
   "source": [
    "#import MultinomialNB from sklearn\n",
    "\n",
    "from sklearn.naive_bayes import MultinomialNB\n",
    "\n",
    "#1. create a pipeline object\n",
    "\n",
    "clf = Pipeline([\n",
    "    ('vectorizer', CountVectorizer(ngram_range=(1,2))),\n",
    "    ('Mult', MultinomialNB())\n",
    "])\n",
    "\n",
    "\n",
    "#2. fit with X_train and y_train\n",
    "\n",
    "clf.fit(X_train,y_train)\n",
    "\n",
    "#3. get the predictions for X_test and store it in y_pred\n",
    "\n",
    "prediction2 = clf.predict(X_test)\n",
    "#4. print the classfication report\n",
    "print(classification_report(y_test, prediction2))"
   ]
  },
  {
   "cell_type": "markdown",
   "id": "b1e72e44-e0b0-4aaa-b8fe-4e8d5c414a71",
   "metadata": {},
   "source": [
    "# Attempt 3:\n",
    "using the sklearn pipeline module create a classification pipeline to classify the Data."
   ]
  },
  {
   "cell_type": "markdown",
   "id": "bae2a988-f816-4866-880a-7aa857e6a18a",
   "metadata": {},
   "source": [
    "# note:\n",
    "using CountVectorizer with both unigram and Bigrams.\r\n",
    "\n",
    "use RandomForest as the classifier.\n",
    "\r\n",
    "print the classification report."
   ]
  },
  {
   "cell_type": "code",
   "execution_count": 108,
   "id": "61301324-9555-41c3-ad9a-74020fd582a2",
   "metadata": {},
   "outputs": [
    {
     "name": "stdout",
     "output_type": "stream",
     "text": [
      "              precision    recall  f1-score   support\n",
      "\n",
      "           0       0.95      0.86      0.90       407\n",
      "           1       0.85      0.96      0.90       368\n",
      "           2       0.95      0.91      0.93       388\n",
      "\n",
      "    accuracy                           0.91      1163\n",
      "   macro avg       0.92      0.91      0.91      1163\n",
      "weighted avg       0.92      0.91      0.91      1163\n",
      "\n"
     ]
    }
   ],
   "source": [
    "#1. create a pipeline object\n",
    "clf = Pipeline([\n",
    "    ('vectorizer', CountVectorizer(ngram_range=(1,2))),\n",
    "    ('rf', RandomForestClassifier())\n",
    "])\n",
    "\n",
    "\n",
    "#2. fit with X_train and y_train\n",
    "\n",
    "clf.fit(X_train,y_train)\n",
    "\n",
    "#3. get the predictions for X_test and store it in y_pred\n",
    "\n",
    "prediction3 = clf.predict(X_test)\n",
    "\n",
    "#4. print the classfication report\n",
    "print(classification_report(y_test,prediction3))"
   ]
  },
  {
   "cell_type": "markdown",
   "id": "8ca28ad1-458c-47f7-b07e-0d02df991865",
   "metadata": {},
   "source": [
    " # Attempt 3:\n",
    " using the sklearn pipeline module create a classification pipeline to classify the Data."
   ]
  },
  {
   "cell_type": "markdown",
   "id": "f5e8fb5b-092f-4e46-a428-148eab51e59d",
   "metadata": {},
   "source": [
    "# Note:\n",
    "using TF-IDF vectorizer for Pre-processing the text.\r\n",
    "\n",
    "use RandomForest as the classifier.\n",
    "\r\n",
    "print the classification report."
   ]
  },
  {
   "cell_type": "code",
   "execution_count": 110,
   "id": "8967ca53-e275-46f7-a34f-1afade7d3d07",
   "metadata": {},
   "outputs": [
    {
     "name": "stdout",
     "output_type": "stream",
     "text": [
      "              precision    recall  f1-score   support\n",
      "\n",
      "           0       0.94      0.89      0.92       407\n",
      "           1       0.89      0.92      0.90       368\n",
      "           2       0.94      0.94      0.94       388\n",
      "\n",
      "    accuracy                           0.92      1163\n",
      "   macro avg       0.92      0.92      0.92      1163\n",
      "weighted avg       0.92      0.92      0.92      1163\n",
      "\n"
     ]
    }
   ],
   "source": [
    "\n",
    "#import TfidfVectorizer from sklearn\n",
    "\n",
    "from sklearn.feature_extraction.text import TfidfVectorizer\n",
    "\n",
    "#1. create a pipeline object\n",
    "\n",
    "clf = Pipeline([\n",
    "    ('vectorizer', TfidfVectorizer()),\n",
    "    ('rf', RandomForestClassifier())\n",
    "])\n",
    "\n",
    "#2. fit with X_train and y_train\n",
    "\n",
    "clf.fit(X_train,y_train)\n",
    "\n",
    "#3. get the predictions for X_test and store it in y_pred\n",
    "\n",
    "prediction4 =clf.predict(X_test)\n",
    "#4. print the classfication report\n",
    "print(classification_report(y_test, prediction4))"
   ]
  },
  {
   "cell_type": "markdown",
   "id": "63f384a6-43e1-4791-9ad2-846124a57fdc",
   "metadata": {},
   "source": [
    "# Use text pre-processing to remove stop words, punctuations and apply lemmatization\n",
    "\r",
    "nn"
   ]
  },
  {
   "cell_type": "code",
   "execution_count": 111,
   "id": "959deb24-5046-4994-b2e0-75113c630cca",
   "metadata": {},
   "outputs": [],
   "source": [
    "import spacy\n",
    "\n",
    "nlp = spacy.load('en_core_web_sm')\n",
    "#use this utility function to get the preprocessed text data\n",
    "def preprocess(text):\n",
    "    # remove stop words and lemmatize the text\n",
    "    doc = nlp(text)\n",
    "    filtered_tokens = []\n",
    "    for token in doc:\n",
    "        if token.is_stop or token.is_punct:\n",
    "            continue\n",
    "        filtered_tokens.append(token.lemma_)\n",
    "    \n",
    "    return \" \".join(filtered_tokens) "
   ]
  },
  {
   "cell_type": "code",
   "execution_count": 112,
   "id": "8c1875c1-ce59-4311-b794-b2903c7fe9d8",
   "metadata": {},
   "outputs": [],
   "source": [
    "# create a new column \"preprocessed_comment\" and use the utility function above to get the clean data\n",
    "df['preprocessed_comment'] = df.Comment.apply(preprocess)\n",
    "# this will take some time, please be patient"
   ]
  },
  {
   "cell_type": "code",
   "execution_count": 113,
   "id": "8cb54077-7d62-4d45-a5f9-da4965153365",
   "metadata": {},
   "outputs": [
    {
     "data": {
      "text/html": [
       "<div>\n",
       "<style scoped>\n",
       "    .dataframe tbody tr th:only-of-type {\n",
       "        vertical-align: middle;\n",
       "    }\n",
       "\n",
       "    .dataframe tbody tr th {\n",
       "        vertical-align: top;\n",
       "    }\n",
       "\n",
       "    .dataframe thead th {\n",
       "        text-align: right;\n",
       "    }\n",
       "</style>\n",
       "<table border=\"1\" class=\"dataframe\">\n",
       "  <thead>\n",
       "    <tr style=\"text-align: right;\">\n",
       "      <th></th>\n",
       "      <th>Comment</th>\n",
       "      <th>Emotion</th>\n",
       "      <th>Emotion_num</th>\n",
       "      <th>preprocessed_comment</th>\n",
       "    </tr>\n",
       "  </thead>\n",
       "  <tbody>\n",
       "    <tr>\n",
       "      <th>2360</th>\n",
       "      <td>i know i shouldn t feel offended but i do</td>\n",
       "      <td>anger</td>\n",
       "      <td>0</td>\n",
       "      <td>know shouldn t feel offended</td>\n",
       "    </tr>\n",
       "    <tr>\n",
       "      <th>1594</th>\n",
       "      <td>i feel very dissatisfied with myself</td>\n",
       "      <td>anger</td>\n",
       "      <td>0</td>\n",
       "      <td>feel dissatisfied</td>\n",
       "    </tr>\n",
       "    <tr>\n",
       "      <th>2822</th>\n",
       "      <td>i am feeling that bitter sweetness that comes ...</td>\n",
       "      <td>anger</td>\n",
       "      <td>0</td>\n",
       "      <td>feel bitter sweetness come deep recess soul</td>\n",
       "    </tr>\n",
       "    <tr>\n",
       "      <th>1859</th>\n",
       "      <td>i mustered up energy to feel christmassy i rem...</td>\n",
       "      <td>anger</td>\n",
       "      <td>0</td>\n",
       "      <td>muster energy feel christmassy remember feel k...</td>\n",
       "    </tr>\n",
       "    <tr>\n",
       "      <th>3588</th>\n",
       "      <td>i am feeling spiteful</td>\n",
       "      <td>anger</td>\n",
       "      <td>0</td>\n",
       "      <td>feel spiteful</td>\n",
       "    </tr>\n",
       "  </tbody>\n",
       "</table>\n",
       "</div>"
      ],
      "text/plain": [
       "                                                Comment Emotion  Emotion_num  \\\n",
       "2360          i know i shouldn t feel offended but i do   anger            0   \n",
       "1594               i feel very dissatisfied with myself   anger            0   \n",
       "2822  i am feeling that bitter sweetness that comes ...   anger            0   \n",
       "1859  i mustered up energy to feel christmassy i rem...   anger            0   \n",
       "3588                              i am feeling spiteful   anger            0   \n",
       "\n",
       "                                   preprocessed_comment  \n",
       "2360                       know shouldn t feel offended  \n",
       "1594                                  feel dissatisfied  \n",
       "2822        feel bitter sweetness come deep recess soul  \n",
       "1859  muster energy feel christmassy remember feel k...  \n",
       "3588                                      feel spiteful  "
      ]
     },
     "execution_count": 113,
     "metadata": {},
     "output_type": "execute_result"
    }
   ],
   "source": [
    "df.head()"
   ]
  },
  {
   "cell_type": "markdown",
   "id": "cf756f5c-3c2b-44ff-a3e8-644537c630bd",
   "metadata": {},
   "source": [
    "# Build a model with preprocessed text"
   ]
  },
  {
   "cell_type": "code",
   "execution_count": 115,
   "id": "fdbd6696-5058-4dec-85d2-64d1fbced209",
   "metadata": {},
   "outputs": [],
   "source": [
    "#Do the 'train-test' splitting with test size of 20% with random state of 2022 and stratify sampling too\n",
    "#Note: Use the preprocessed_Comment\n",
    "from sklearn.model_selection import train_test_split\n",
    "X = df.preprocessed_comment\n",
    "y = df.Emotion_num\n",
    "X_train, X_test, y_train, y_test = train_test_split(X, y, test_size=0.2, random_state=2022)"
   ]
  },
  {
   "cell_type": "markdown",
   "id": "b85ee050-16c8-499a-bed1-5bd52e7158cb",
   "metadata": {},
   "source": [
    "# Let's check the scores with our best model till now\n",
    "Randomforest"
   ]
  },
  {
   "cell_type": "markdown",
   "id": "44241824-ae05-4c92-907b-5b206d97fade",
   "metadata": {},
   "source": [
    "# Attempt 1:\n",
    "using the sklearn pipeline module create a classification pipeline to classify the Data."
   ]
  },
  {
   "cell_type": "markdown",
   "id": "944f462d-cd88-4b82-8786-d51f502dd78e",
   "metadata": {},
   "source": [
    "# Note:\n",
    "using CountVectorizer with both unigrams and bigrams.\r\n",
    "\n",
    "use RandomForest as the classifier.\n",
    "\r\n",
    "print the classification report."
   ]
  },
  {
   "cell_type": "code",
   "execution_count": 119,
   "id": "5b559b7d-a0c4-4548-aadc-7804b298d18c",
   "metadata": {},
   "outputs": [
    {
     "name": "stdout",
     "output_type": "stream",
     "text": [
      "              precision    recall  f1-score   support\n",
      "\n",
      "           0       0.93      0.93      0.93       407\n",
      "           1       0.93      0.95      0.94       368\n",
      "           2       0.96      0.93      0.94       388\n",
      "\n",
      "    accuracy                           0.94      1163\n",
      "   macro avg       0.94      0.94      0.94      1163\n",
      "weighted avg       0.94      0.94      0.94      1163\n",
      "\n"
     ]
    }
   ],
   "source": [
    "#1. create a pipeline object\n",
    "\n",
    "clf = Pipeline([\n",
    "    ('vectorizer', CountVectorizer(ngram_range=(1,2))),\n",
    "    ('rf', RandomForestClassifier())\n",
    "])\n",
    "\n",
    "\n",
    "#2. fit with X_train and y_train\n",
    "\n",
    "clf.fit(X_train,y_train)\n",
    "\n",
    "#3. get the predictions for X_test and store it in y_pred\n",
    "\n",
    "preprocessed_pred = clf.predict(X_test)\n",
    "\n",
    "#4. print the classfication report\n",
    "print(classification_report(y_test, preprocessed_pred))"
   ]
  },
  {
   "cell_type": "markdown",
   "id": "d3d3e8e4-0c99-4f9e-a5f6-a35b0ca3f797",
   "metadata": {},
   "source": [
    "# Attempt 2:\n",
    "sing the sklearn pipeline module create a classification pipeline to classify the data."
   ]
  },
  {
   "cell_type": "markdown",
   "id": "474e4dda-31dd-4b6e-86c8-9e74e5dfbcbc",
   "metadata": {},
   "source": [
    "# Note:\n",
    "\n",
    "using TF-IDF vectorizer for pre-processing the text.\n",
    "\n",
    "use RandomForest as the classifier.\n",
    "\n",
    "print the classification report."
   ]
  },
  {
   "cell_type": "code",
   "execution_count": 120,
   "id": "4034ca34-a191-4e18-975e-bb0a49eb54a2",
   "metadata": {},
   "outputs": [
    {
     "name": "stdout",
     "output_type": "stream",
     "text": [
      "              precision    recall  f1-score   support\n",
      "\n",
      "           0       0.92      0.93      0.93       407\n",
      "           1       0.93      0.93      0.93       368\n",
      "           2       0.95      0.95      0.95       388\n",
      "\n",
      "    accuracy                           0.93      1163\n",
      "   macro avg       0.93      0.93      0.93      1163\n",
      "weighted avg       0.93      0.93      0.93      1163\n",
      "\n"
     ]
    }
   ],
   "source": [
    "\n",
    "#1. create a pipeline object\n",
    "\n",
    "clf = Pipeline([\n",
    "    ('vectorizer', TfidfVectorizer()),\n",
    "    ('rf', RandomForestClassifier())\n",
    "])\n",
    "\n",
    "#2. fit with X_train and y_train\n",
    "\n",
    "clf.fit(X_train,y_train)\n",
    "\n",
    "#3. get the predictions for X_test and store it in y_pred\n",
    "\n",
    "tf_idf_prediction = clf.predict(X_test)\n",
    "\n",
    "#4. print the classfication report\n",
    "print(classification_report(y_test, tf_idf_prediction))"
   ]
  },
  {
   "cell_type": "code",
   "execution_count": null,
   "id": "c21e5b48-7ab4-4fa7-97de-40d841fd377b",
   "metadata": {},
   "outputs": [],
   "source": []
  }
 ],
 "metadata": {
  "kernelspec": {
   "display_name": "Python 3 (ipykernel)",
   "language": "python",
   "name": "python3"
  },
  "language_info": {
   "codemirror_mode": {
    "name": "ipython",
    "version": 3
   },
   "file_extension": ".py",
   "mimetype": "text/x-python",
   "name": "python",
   "nbconvert_exporter": "python",
   "pygments_lexer": "ipython3",
   "version": "3.12.4"
  }
 },
 "nbformat": 4,
 "nbformat_minor": 5
}
